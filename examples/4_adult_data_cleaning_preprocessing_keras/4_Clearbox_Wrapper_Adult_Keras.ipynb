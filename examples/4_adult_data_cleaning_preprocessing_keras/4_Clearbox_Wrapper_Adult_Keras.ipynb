{
 "cells": [
  {
   "cell_type": "markdown",
   "metadata": {},
   "source": [
    "# Clearbox Wrapper Tutorial\n",
    "\n",
    "Clearbox Wrapper is a Python library to package and save a ML model.\n",
    "\n",
    "We'll use the popular UCI Adult dataset and build a Keras classifier on it.\n",
    "\n",
    "Before feeding the data to the model, they pass to two preliminary steps: data cleaning and pre-processing.\n",
    "\n",
    "## Data Cleaning\n",
    "\n",
    "By the terms __data cleaning__ we refer to the processing of raw data. Any kind of operation is allowed, but often cleaning the raw data includes removing or normalizing some columns, replacing values, add a column based on other column values,...\n",
    "\n",
    "This kind of processing is usually performed even before considering any kind of model to feed the data in. The entire dataset is cleaned and the following processing steps and the model are built considering only the cleaned data. But this is not always the case. Often the _data cleaning step_ must be considered the first step of the model-in-production pipeline. The model, ready to take an input and compute a prediction, will receive a dirty data instance which should be cleaned. After this step, no matter what kind of transformation the data have been through, they should still be readable and understandable by an human user.\n",
    "\n",
    "## Pre-processing\n",
    "\n",
    "This is the kind of pre-processing we're already familiar with. It includes the operations required to transform the data just before feed them to the model.\n",
    "\n",
    "\n",
    "We want to wrap and save _data cleaning_ and _pre-processing_ steps along with the model so to have a pipeline Data Cleaning+Preprocessing+Model ready to take raw data, clean and process them and make predictions.\n",
    "\n",
    "We can do that with Clearbox Wrapper, but the _data cleaning_ and _pre-processing_ code must be wrapped in two separate functions.\n",
    "\n",
    "## Install and import required libraries"
   ]
  },
  {
   "cell_type": "code",
   "execution_count": 1,
   "metadata": {
    "scrolled": true
   },
   "outputs": [
    {
     "output_type": "stream",
     "name": "stdout",
     "text": [
      "Requirement already satisfied: pandas in /home/andrea/clearbox_repos/clearbox-model-garden/.venv/lib/python3.8/site-packages (1.1.3)\n",
      "Requirement already satisfied: numpy>=1.15.4 in /home/andrea/clearbox_repos/clearbox-model-garden/.venv/lib/python3.8/site-packages (from pandas) (1.18.5)\n",
      "Requirement already satisfied: python-dateutil>=2.7.3 in /home/andrea/clearbox_repos/clearbox-model-garden/.venv/lib/python3.8/site-packages (from pandas) (2.8.1)\n",
      "Requirement already satisfied: pytz>=2017.2 in /home/andrea/clearbox_repos/clearbox-model-garden/.venv/lib/python3.8/site-packages (from pandas) (2020.1)\n",
      "Requirement already satisfied: six>=1.5 in /home/andrea/clearbox_repos/clearbox-model-garden/.venv/lib/python3.8/site-packages (from python-dateutil>=2.7.3->pandas) (1.15.0)\n",
      "\u001b[33mWARNING: You are using pip version 20.2.3; however, version 20.3.3 is available.\n",
      "You should consider upgrading via the '/home/andrea/clearbox_repos/clearbox-model-garden/.venv/bin/python -m pip install --upgrade pip' command.\u001b[0m\n",
      "Requirement already satisfied: numpy in /home/andrea/clearbox_repos/clearbox-model-garden/.venv/lib/python3.8/site-packages (1.18.5)\n",
      "\u001b[33mWARNING: You are using pip version 20.2.3; however, version 20.3.3 is available.\n",
      "You should consider upgrading via the '/home/andrea/clearbox_repos/clearbox-model-garden/.venv/bin/python -m pip install --upgrade pip' command.\u001b[0m\n",
      "Requirement already satisfied: scikit-learn in /home/andrea/clearbox_repos/clearbox-model-garden/.venv/lib/python3.8/site-packages (0.23.2)\n",
      "Requirement already satisfied: joblib>=0.11 in /home/andrea/clearbox_repos/clearbox-model-garden/.venv/lib/python3.8/site-packages (from scikit-learn) (0.17.0)\n",
      "Requirement already satisfied: threadpoolctl>=2.0.0 in /home/andrea/clearbox_repos/clearbox-model-garden/.venv/lib/python3.8/site-packages (from scikit-learn) (2.1.0)\n",
      "Requirement already satisfied: numpy>=1.13.3 in /home/andrea/clearbox_repos/clearbox-model-garden/.venv/lib/python3.8/site-packages (from scikit-learn) (1.18.5)\n",
      "Requirement already satisfied: scipy>=0.19.1 in /home/andrea/clearbox_repos/clearbox-model-garden/.venv/lib/python3.8/site-packages (from scikit-learn) (1.5.2)\n",
      "\u001b[33mWARNING: You are using pip version 20.2.3; however, version 20.3.3 is available.\n",
      "You should consider upgrading via the '/home/andrea/clearbox_repos/clearbox-model-garden/.venv/bin/python -m pip install --upgrade pip' command.\u001b[0m\n",
      "Requirement already satisfied: tensorflow in /home/andrea/clearbox_repos/clearbox-model-garden/.venv/lib/python3.8/site-packages (2.3.1)\n",
      "Requirement already satisfied: keras-preprocessing<1.2,>=1.1.1 in /home/andrea/clearbox_repos/clearbox-model-garden/.venv/lib/python3.8/site-packages (from tensorflow) (1.1.2)\n",
      "Requirement already satisfied: opt-einsum>=2.3.2 in /home/andrea/clearbox_repos/clearbox-model-garden/.venv/lib/python3.8/site-packages (from tensorflow) (3.3.0)\n",
      "Requirement already satisfied: grpcio>=1.8.6 in /home/andrea/clearbox_repos/clearbox-model-garden/.venv/lib/python3.8/site-packages (from tensorflow) (1.32.0)\n",
      "Requirement already satisfied: six>=1.12.0 in /home/andrea/clearbox_repos/clearbox-model-garden/.venv/lib/python3.8/site-packages (from tensorflow) (1.15.0)\n",
      "Requirement already satisfied: tensorboard<3,>=2.3.0 in /home/andrea/clearbox_repos/clearbox-model-garden/.venv/lib/python3.8/site-packages (from tensorflow) (2.3.0)\n",
      "Requirement already satisfied: absl-py>=0.7.0 in /home/andrea/clearbox_repos/clearbox-model-garden/.venv/lib/python3.8/site-packages (from tensorflow) (0.10.0)\n",
      "Requirement already satisfied: wrapt>=1.11.1 in /home/andrea/clearbox_repos/clearbox-model-garden/.venv/lib/python3.8/site-packages (from tensorflow) (1.12.1)\n",
      "Requirement already satisfied: wheel>=0.26 in /home/andrea/clearbox_repos/clearbox-model-garden/.venv/lib/python3.8/site-packages (from tensorflow) (0.35.1)\n",
      "Requirement already satisfied: gast==0.3.3 in /home/andrea/clearbox_repos/clearbox-model-garden/.venv/lib/python3.8/site-packages (from tensorflow) (0.3.3)\n",
      "Requirement already satisfied: h5py<2.11.0,>=2.10.0 in /home/andrea/clearbox_repos/clearbox-model-garden/.venv/lib/python3.8/site-packages (from tensorflow) (2.10.0)\n",
      "Requirement already satisfied: numpy<1.19.0,>=1.16.0 in /home/andrea/clearbox_repos/clearbox-model-garden/.venv/lib/python3.8/site-packages (from tensorflow) (1.18.5)\n",
      "Requirement already satisfied: tensorflow-estimator<2.4.0,>=2.3.0 in /home/andrea/clearbox_repos/clearbox-model-garden/.venv/lib/python3.8/site-packages (from tensorflow) (2.3.0)\n",
      "Requirement already satisfied: termcolor>=1.1.0 in /home/andrea/clearbox_repos/clearbox-model-garden/.venv/lib/python3.8/site-packages (from tensorflow) (1.1.0)\n",
      "Requirement already satisfied: google-pasta>=0.1.8 in /home/andrea/clearbox_repos/clearbox-model-garden/.venv/lib/python3.8/site-packages (from tensorflow) (0.2.0)\n",
      "Requirement already satisfied: astunparse==1.6.3 in /home/andrea/clearbox_repos/clearbox-model-garden/.venv/lib/python3.8/site-packages (from tensorflow) (1.6.3)\n",
      "Requirement already satisfied: protobuf>=3.9.2 in /home/andrea/clearbox_repos/clearbox-model-garden/.venv/lib/python3.8/site-packages (from tensorflow) (3.13.0)\n",
      "Requirement already satisfied: setuptools>=41.0.0 in /home/andrea/clearbox_repos/clearbox-model-garden/.venv/lib/python3.8/site-packages (from tensorboard<3,>=2.3.0->tensorflow) (49.6.0)\n",
      "Requirement already satisfied: markdown>=2.6.8 in /home/andrea/clearbox_repos/clearbox-model-garden/.venv/lib/python3.8/site-packages (from tensorboard<3,>=2.3.0->tensorflow) (3.3)\n",
      "Requirement already satisfied: tensorboard-plugin-wit>=1.6.0 in /home/andrea/clearbox_repos/clearbox-model-garden/.venv/lib/python3.8/site-packages (from tensorboard<3,>=2.3.0->tensorflow) (1.7.0)\n",
      "Requirement already satisfied: werkzeug>=0.11.15 in /home/andrea/clearbox_repos/clearbox-model-garden/.venv/lib/python3.8/site-packages (from tensorboard<3,>=2.3.0->tensorflow) (1.0.1)\n",
      "Requirement already satisfied: google-auth<2,>=1.6.3 in /home/andrea/clearbox_repos/clearbox-model-garden/.venv/lib/python3.8/site-packages (from tensorboard<3,>=2.3.0->tensorflow) (1.22.1)\n",
      "Requirement already satisfied: requests<3,>=2.21.0 in /home/andrea/clearbox_repos/clearbox-model-garden/.venv/lib/python3.8/site-packages (from tensorboard<3,>=2.3.0->tensorflow) (2.24.0)\n",
      "Requirement already satisfied: google-auth-oauthlib<0.5,>=0.4.1 in /home/andrea/clearbox_repos/clearbox-model-garden/.venv/lib/python3.8/site-packages (from tensorboard<3,>=2.3.0->tensorflow) (0.4.1)\n",
      "Requirement already satisfied: rsa<5,>=3.1.4; python_version >= \"3.5\" in /home/andrea/clearbox_repos/clearbox-model-garden/.venv/lib/python3.8/site-packages (from google-auth<2,>=1.6.3->tensorboard<3,>=2.3.0->tensorflow) (4.6)\n",
      "Requirement already satisfied: pyasn1-modules>=0.2.1 in /home/andrea/clearbox_repos/clearbox-model-garden/.venv/lib/python3.8/site-packages (from google-auth<2,>=1.6.3->tensorboard<3,>=2.3.0->tensorflow) (0.2.8)\n",
      "Requirement already satisfied: cachetools<5.0,>=2.0.0 in /home/andrea/clearbox_repos/clearbox-model-garden/.venv/lib/python3.8/site-packages (from google-auth<2,>=1.6.3->tensorboard<3,>=2.3.0->tensorflow) (4.1.1)\n",
      "Requirement already satisfied: idna<3,>=2.5 in /home/andrea/clearbox_repos/clearbox-model-garden/.venv/lib/python3.8/site-packages (from requests<3,>=2.21.0->tensorboard<3,>=2.3.0->tensorflow) (2.10)\n",
      "Requirement already satisfied: certifi>=2017.4.17 in /home/andrea/clearbox_repos/clearbox-model-garden/.venv/lib/python3.8/site-packages (from requests<3,>=2.21.0->tensorboard<3,>=2.3.0->tensorflow) (2020.6.20)\n",
      "Requirement already satisfied: chardet<4,>=3.0.2 in /home/andrea/clearbox_repos/clearbox-model-garden/.venv/lib/python3.8/site-packages (from requests<3,>=2.21.0->tensorboard<3,>=2.3.0->tensorflow) (3.0.4)\n",
      "Requirement already satisfied: urllib3!=1.25.0,!=1.25.1,<1.26,>=1.21.1 in /home/andrea/clearbox_repos/clearbox-model-garden/.venv/lib/python3.8/site-packages (from requests<3,>=2.21.0->tensorboard<3,>=2.3.0->tensorflow) (1.25.10)\n",
      "Requirement already satisfied: requests-oauthlib>=0.7.0 in /home/andrea/clearbox_repos/clearbox-model-garden/.venv/lib/python3.8/site-packages (from google-auth-oauthlib<0.5,>=0.4.1->tensorboard<3,>=2.3.0->tensorflow) (1.3.0)\n",
      "Requirement already satisfied: pyasn1>=0.1.3 in /home/andrea/clearbox_repos/clearbox-model-garden/.venv/lib/python3.8/site-packages (from rsa<5,>=3.1.4; python_version >= \"3.5\"->google-auth<2,>=1.6.3->tensorboard<3,>=2.3.0->tensorflow) (0.4.8)\n",
      "Requirement already satisfied: oauthlib>=3.0.0 in /home/andrea/clearbox_repos/clearbox-model-garden/.venv/lib/python3.8/site-packages (from requests-oauthlib>=0.7.0->google-auth-oauthlib<0.5,>=0.4.1->tensorboard<3,>=2.3.0->tensorflow) (3.1.0)\n",
      "\u001b[33mWARNING: You are using pip version 20.2.3; however, version 20.3.3 is available.\n",
      "You should consider upgrading via the '/home/andrea/clearbox_repos/clearbox-model-garden/.venv/bin/python -m pip install --upgrade pip' command.\u001b[0m\n",
      "Requirement already satisfied: clearbox-wrapper in /home/andrea/clearbox_repos/clearbox-model-garden/.venv/lib/python3.8/site-packages (0.2.4)\n",
      "Requirement already satisfied: mlflow<2.0.0,>=1.11.0 in /home/andrea/clearbox_repos/clearbox-model-garden/.venv/lib/python3.8/site-packages (from clearbox-wrapper) (1.11.0)\n",
      "Requirement already satisfied: six>=1.10.0 in /home/andrea/clearbox_repos/clearbox-model-garden/.venv/lib/python3.8/site-packages (from mlflow<2.0.0,>=1.11.0->clearbox-wrapper) (1.15.0)\n",
      "Requirement already satisfied: sqlparse in /home/andrea/clearbox_repos/clearbox-model-garden/.venv/lib/python3.8/site-packages (from mlflow<2.0.0,>=1.11.0->clearbox-wrapper) (0.4.1)\n",
      "Requirement already satisfied: cloudpickle in /home/andrea/clearbox_repos/clearbox-model-garden/.venv/lib/python3.8/site-packages (from mlflow<2.0.0,>=1.11.0->clearbox-wrapper) (1.6.0)\n",
      "Requirement already satisfied: pyyaml in /home/andrea/clearbox_repos/clearbox-model-garden/.venv/lib/python3.8/site-packages (from mlflow<2.0.0,>=1.11.0->clearbox-wrapper) (5.3.1)\n",
      "Requirement already satisfied: python-dateutil in /home/andrea/clearbox_repos/clearbox-model-garden/.venv/lib/python3.8/site-packages (from mlflow<2.0.0,>=1.11.0->clearbox-wrapper) (2.8.1)\n",
      "Requirement already satisfied: protobuf>=3.6.0 in /home/andrea/clearbox_repos/clearbox-model-garden/.venv/lib/python3.8/site-packages (from mlflow<2.0.0,>=1.11.0->clearbox-wrapper) (3.13.0)\n",
      "Requirement already satisfied: numpy in /home/andrea/clearbox_repos/clearbox-model-garden/.venv/lib/python3.8/site-packages (from mlflow<2.0.0,>=1.11.0->clearbox-wrapper) (1.18.5)\n",
      "Requirement already satisfied: Flask in /home/andrea/clearbox_repos/clearbox-model-garden/.venv/lib/python3.8/site-packages (from mlflow<2.0.0,>=1.11.0->clearbox-wrapper) (1.1.2)\n",
      "Requirement already satisfied: click>=7.0 in /home/andrea/clearbox_repos/clearbox-model-garden/.venv/lib/python3.8/site-packages (from mlflow<2.0.0,>=1.11.0->clearbox-wrapper) (7.1.2)\n",
      "Requirement already satisfied: azure-storage-blob>=12.0 in /home/andrea/clearbox_repos/clearbox-model-garden/.venv/lib/python3.8/site-packages (from mlflow<2.0.0,>=1.11.0->clearbox-wrapper) (12.5.0)\n",
      "Requirement already satisfied: databricks-cli>=0.8.7 in /home/andrea/clearbox_repos/clearbox-model-garden/.venv/lib/python3.8/site-packages (from mlflow<2.0.0,>=1.11.0->clearbox-wrapper) (0.12.1)\n",
      "Requirement already satisfied: entrypoints in /home/andrea/clearbox_repos/clearbox-model-garden/.venv/lib/python3.8/site-packages (from mlflow<2.0.0,>=1.11.0->clearbox-wrapper) (0.3)\n",
      "Requirement already satisfied: querystring-parser in /home/andrea/clearbox_repos/clearbox-model-garden/.venv/lib/python3.8/site-packages (from mlflow<2.0.0,>=1.11.0->clearbox-wrapper) (1.2.4)\n",
      "Requirement already satisfied: prometheus-flask-exporter in /home/andrea/clearbox_repos/clearbox-model-garden/.venv/lib/python3.8/site-packages (from mlflow<2.0.0,>=1.11.0->clearbox-wrapper) (0.18.0)\n",
      "Requirement already satisfied: alembic<=1.4.1 in /home/andrea/clearbox_repos/clearbox-model-garden/.venv/lib/python3.8/site-packages (from mlflow<2.0.0,>=1.11.0->clearbox-wrapper) (1.4.1)\n",
      "Requirement already satisfied: gorilla in /home/andrea/clearbox_repos/clearbox-model-garden/.venv/lib/python3.8/site-packages (from mlflow<2.0.0,>=1.11.0->clearbox-wrapper) (0.3.0)\n",
      "Requirement already satisfied: sqlalchemy<=1.3.13 in /home/andrea/clearbox_repos/clearbox-model-garden/.venv/lib/python3.8/site-packages (from mlflow<2.0.0,>=1.11.0->clearbox-wrapper) (1.3.13)\n",
      "Requirement already satisfied: docker>=4.0.0 in /home/andrea/clearbox_repos/clearbox-model-garden/.venv/lib/python3.8/site-packages (from mlflow<2.0.0,>=1.11.0->clearbox-wrapper) (4.2.2)\n",
      "Requirement already satisfied: gunicorn; platform_system != \"Windows\" in /home/andrea/clearbox_repos/clearbox-model-garden/.venv/lib/python3.8/site-packages (from mlflow<2.0.0,>=1.11.0->clearbox-wrapper) (20.0.4)\n",
      "Requirement already satisfied: requests>=2.17.3 in /home/andrea/clearbox_repos/clearbox-model-garden/.venv/lib/python3.8/site-packages (from mlflow<2.0.0,>=1.11.0->clearbox-wrapper) (2.24.0)\n",
      "Requirement already satisfied: gitpython>=2.1.0 in /home/andrea/clearbox_repos/clearbox-model-garden/.venv/lib/python3.8/site-packages (from mlflow<2.0.0,>=1.11.0->clearbox-wrapper) (3.1.9)\n",
      "Requirement already satisfied: pandas in /home/andrea/clearbox_repos/clearbox-model-garden/.venv/lib/python3.8/site-packages (from mlflow<2.0.0,>=1.11.0->clearbox-wrapper) (1.1.3)\n",
      "Requirement already satisfied: setuptools in /home/andrea/clearbox_repos/clearbox-model-garden/.venv/lib/python3.8/site-packages (from protobuf>=3.6.0->mlflow<2.0.0,>=1.11.0->clearbox-wrapper) (49.6.0)\n",
      "Requirement already satisfied: Jinja2>=2.10.1 in /home/andrea/clearbox_repos/clearbox-model-garden/.venv/lib/python3.8/site-packages (from Flask->mlflow<2.0.0,>=1.11.0->clearbox-wrapper) (2.11.2)\n",
      "Requirement already satisfied: itsdangerous>=0.24 in /home/andrea/clearbox_repos/clearbox-model-garden/.venv/lib/python3.8/site-packages (from Flask->mlflow<2.0.0,>=1.11.0->clearbox-wrapper) (1.1.0)\n",
      "Requirement already satisfied: Werkzeug>=0.15 in /home/andrea/clearbox_repos/clearbox-model-garden/.venv/lib/python3.8/site-packages (from Flask->mlflow<2.0.0,>=1.11.0->clearbox-wrapper) (1.0.1)\n",
      "Requirement already satisfied: azure-core<2.0.0,>=1.6.0 in /home/andrea/clearbox_repos/clearbox-model-garden/.venv/lib/python3.8/site-packages (from azure-storage-blob>=12.0->mlflow<2.0.0,>=1.11.0->clearbox-wrapper) (1.8.2)\n",
      "Requirement already satisfied: msrest>=0.6.10 in /home/andrea/clearbox_repos/clearbox-model-garden/.venv/lib/python3.8/site-packages (from azure-storage-blob>=12.0->mlflow<2.0.0,>=1.11.0->clearbox-wrapper) (0.6.19)\n",
      "Requirement already satisfied: cryptography>=2.1.4 in /home/andrea/clearbox_repos/clearbox-model-garden/.venv/lib/python3.8/site-packages (from azure-storage-blob>=12.0->mlflow<2.0.0,>=1.11.0->clearbox-wrapper) (3.1.1)\n",
      "Requirement already satisfied: tenacity>=6.2.0 in /home/andrea/clearbox_repos/clearbox-model-garden/.venv/lib/python3.8/site-packages (from databricks-cli>=0.8.7->mlflow<2.0.0,>=1.11.0->clearbox-wrapper) (6.2.0)\n",
      "Requirement already satisfied: tabulate>=0.7.7 in /home/andrea/clearbox_repos/clearbox-model-garden/.venv/lib/python3.8/site-packages (from databricks-cli>=0.8.7->mlflow<2.0.0,>=1.11.0->clearbox-wrapper) (0.8.7)\n",
      "Requirement already satisfied: prometheus-client in /home/andrea/clearbox_repos/clearbox-model-garden/.venv/lib/python3.8/site-packages (from prometheus-flask-exporter->mlflow<2.0.0,>=1.11.0->clearbox-wrapper) (0.8.0)\n",
      "Requirement already satisfied: Mako in /home/andrea/clearbox_repos/clearbox-model-garden/.venv/lib/python3.8/site-packages (from alembic<=1.4.1->mlflow<2.0.0,>=1.11.0->clearbox-wrapper) (1.1.3)\n",
      "Requirement already satisfied: python-editor>=0.3 in /home/andrea/clearbox_repos/clearbox-model-garden/.venv/lib/python3.8/site-packages (from alembic<=1.4.1->mlflow<2.0.0,>=1.11.0->clearbox-wrapper) (1.0.4)\n",
      "Requirement already satisfied: websocket-client>=0.32.0 in /home/andrea/clearbox_repos/clearbox-model-garden/.venv/lib/python3.8/site-packages (from docker>=4.0.0->mlflow<2.0.0,>=1.11.0->clearbox-wrapper) (0.57.0)\n",
      "Requirement already satisfied: idna<3,>=2.5 in /home/andrea/clearbox_repos/clearbox-model-garden/.venv/lib/python3.8/site-packages (from requests>=2.17.3->mlflow<2.0.0,>=1.11.0->clearbox-wrapper) (2.10)\n",
      "Requirement already satisfied: urllib3!=1.25.0,!=1.25.1,<1.26,>=1.21.1 in /home/andrea/clearbox_repos/clearbox-model-garden/.venv/lib/python3.8/site-packages (from requests>=2.17.3->mlflow<2.0.0,>=1.11.0->clearbox-wrapper) (1.25.10)\n",
      "Requirement already satisfied: chardet<4,>=3.0.2 in /home/andrea/clearbox_repos/clearbox-model-garden/.venv/lib/python3.8/site-packages (from requests>=2.17.3->mlflow<2.0.0,>=1.11.0->clearbox-wrapper) (3.0.4)\n",
      "Requirement already satisfied: certifi>=2017.4.17 in /home/andrea/clearbox_repos/clearbox-model-garden/.venv/lib/python3.8/site-packages (from requests>=2.17.3->mlflow<2.0.0,>=1.11.0->clearbox-wrapper) (2020.6.20)\n",
      "Requirement already satisfied: gitdb<5,>=4.0.1 in /home/andrea/clearbox_repos/clearbox-model-garden/.venv/lib/python3.8/site-packages (from gitpython>=2.1.0->mlflow<2.0.0,>=1.11.0->clearbox-wrapper) (4.0.5)\n",
      "Requirement already satisfied: pytz>=2017.2 in /home/andrea/clearbox_repos/clearbox-model-garden/.venv/lib/python3.8/site-packages (from pandas->mlflow<2.0.0,>=1.11.0->clearbox-wrapper) (2020.1)\n",
      "Requirement already satisfied: MarkupSafe>=0.23 in /home/andrea/clearbox_repos/clearbox-model-garden/.venv/lib/python3.8/site-packages (from Jinja2>=2.10.1->Flask->mlflow<2.0.0,>=1.11.0->clearbox-wrapper) (1.1.1)\n",
      "Requirement already satisfied: isodate>=0.6.0 in /home/andrea/clearbox_repos/clearbox-model-garden/.venv/lib/python3.8/site-packages (from msrest>=0.6.10->azure-storage-blob>=12.0->mlflow<2.0.0,>=1.11.0->clearbox-wrapper) (0.6.0)\n",
      "Requirement already satisfied: requests-oauthlib>=0.5.0 in /home/andrea/clearbox_repos/clearbox-model-garden/.venv/lib/python3.8/site-packages (from msrest>=0.6.10->azure-storage-blob>=12.0->mlflow<2.0.0,>=1.11.0->clearbox-wrapper) (1.3.0)\n",
      "Requirement already satisfied: cffi!=1.11.3,>=1.8 in /home/andrea/clearbox_repos/clearbox-model-garden/.venv/lib/python3.8/site-packages (from cryptography>=2.1.4->azure-storage-blob>=12.0->mlflow<2.0.0,>=1.11.0->clearbox-wrapper) (1.14.3)\n",
      "Requirement already satisfied: smmap<4,>=3.0.1 in /home/andrea/clearbox_repos/clearbox-model-garden/.venv/lib/python3.8/site-packages (from gitdb<5,>=4.0.1->gitpython>=2.1.0->mlflow<2.0.0,>=1.11.0->clearbox-wrapper) (3.0.4)\n",
      "Requirement already satisfied: oauthlib>=3.0.0 in /home/andrea/clearbox_repos/clearbox-model-garden/.venv/lib/python3.8/site-packages (from requests-oauthlib>=0.5.0->msrest>=0.6.10->azure-storage-blob>=12.0->mlflow<2.0.0,>=1.11.0->clearbox-wrapper) (3.1.0)\n",
      "Requirement already satisfied: pycparser in /home/andrea/clearbox_repos/clearbox-model-garden/.venv/lib/python3.8/site-packages (from cffi!=1.11.3,>=1.8->cryptography>=2.1.4->azure-storage-blob>=12.0->mlflow<2.0.0,>=1.11.0->clearbox-wrapper) (2.20)\n",
      "\u001b[33mWARNING: You are using pip version 20.2.3; however, version 20.3.3 is available.\n",
      "You should consider upgrading via the '/home/andrea/clearbox_repos/clearbox-model-garden/.venv/bin/python -m pip install --upgrade pip' command.\u001b[0m\n"
     ]
    }
   ],
   "source": [
    "!pip install pandas\n",
    "!pip install numpy\n",
    "!pip install scikit-learn\n",
    "!pip install tensorflow\n",
    "\n",
    "!pip install clearbox-wrapper"
   ]
  },
  {
   "cell_type": "code",
   "execution_count": 2,
   "metadata": {},
   "outputs": [],
   "source": [
    "import pandas as pd\n",
    "import numpy as np\n",
    "\n",
    "from sklearn.compose import ColumnTransformer\n",
    "from sklearn.impute import SimpleImputer\n",
    "from sklearn.pipeline import Pipeline\n",
    "from sklearn.preprocessing import StandardScaler, OneHotEncoder, LabelEncoder\n",
    "\n",
    "from tensorflow.keras.layers import Dense\n",
    "from tensorflow.keras.models import Sequential\n",
    "\n",
    "import clearbox_wrapper as cbw"
   ]
  },
  {
   "cell_type": "markdown",
   "metadata": {},
   "source": [
    "## Datasets\n",
    "\n",
    "We already have two different csv files for the training and test set."
   ]
  },
  {
   "cell_type": "code",
   "execution_count": 3,
   "metadata": {},
   "outputs": [],
   "source": [
    "adult_training_csv_path = 'adult_training.csv'\n",
    "adult_test_csv_path = 'adult_test.csv'"
   ]
  },
  {
   "cell_type": "code",
   "execution_count": 4,
   "metadata": {},
   "outputs": [],
   "source": [
    "adult_training = pd.read_csv(adult_training_csv_path)\n",
    "adult_test = pd.read_csv(adult_test_csv_path)"
   ]
  },
  {
   "cell_type": "code",
   "execution_count": 5,
   "metadata": {},
   "outputs": [],
   "source": [
    "target_column = 'income'"
   ]
  },
  {
   "cell_type": "code",
   "execution_count": 6,
   "metadata": {},
   "outputs": [],
   "source": [
    "y_train = adult_training[target_column]\n",
    "X_train = adult_training.drop(target_column, axis=1)"
   ]
  },
  {
   "cell_type": "code",
   "execution_count": 7,
   "metadata": {},
   "outputs": [],
   "source": [
    "y_test = adult_test[target_column]\n",
    "X_test = adult_test.drop(target_column, axis=1)"
   ]
  },
  {
   "cell_type": "code",
   "execution_count": 8,
   "metadata": {},
   "outputs": [
    {
     "output_type": "stream",
     "name": "stdout",
     "text": [
      "<class 'pandas.core.frame.DataFrame'>\nRangeIndex: 32561 entries, 0 to 32560\nData columns (total 12 columns):\n #   Column          Non-Null Count  Dtype \n---  ------          --------------  ----- \n 0   age             32561 non-null  int64 \n 1   work_class      30725 non-null  object\n 2   education       32561 non-null  object\n 3   marital_status  32561 non-null  object\n 4   occupation      30718 non-null  object\n 5   relationship    32561 non-null  object\n 6   race            32561 non-null  object\n 7   sex             32561 non-null  object\n 8   capital_gain    32561 non-null  int64 \n 9   capital_loss    32561 non-null  int64 \n 10  hours_per_week  32561 non-null  int64 \n 11  native_country  31978 non-null  object\ndtypes: int64(4), object(8)\nmemory usage: 3.0+ MB\n"
     ]
    }
   ],
   "source": [
    "X_train.info()"
   ]
  },
  {
   "cell_type": "code",
   "execution_count": 9,
   "metadata": {
    "scrolled": true
   },
   "outputs": [
    {
     "output_type": "stream",
     "name": "stdout",
     "text": [
      "<class 'pandas.core.frame.DataFrame'>\nRangeIndex: 16281 entries, 0 to 16280\nData columns (total 12 columns):\n #   Column          Non-Null Count  Dtype \n---  ------          --------------  ----- \n 0   age             16281 non-null  int64 \n 1   work_class      15318 non-null  object\n 2   education       16281 non-null  object\n 3   marital_status  16281 non-null  object\n 4   occupation      15315 non-null  object\n 5   relationship    16281 non-null  object\n 6   race            16281 non-null  object\n 7   sex             16281 non-null  object\n 8   capital_gain    16281 non-null  int64 \n 9   capital_loss    16281 non-null  int64 \n 10  hours_per_week  16281 non-null  int64 \n 11  native_country  16007 non-null  object\ndtypes: int64(4), object(8)\nmemory usage: 1.5+ MB\n"
     ]
    }
   ],
   "source": [
    "X_test.info()"
   ]
  },
  {
   "cell_type": "markdown",
   "metadata": {},
   "source": [
    "## Data Cleaning\n",
    "\n",
    "Several columns of the dataset have a large cardinality (a lot of different values). We'll clean the data mapping a lot of these useless values. The cleaning is wrapped in a single function."
   ]
  },
  {
   "cell_type": "code",
   "execution_count": 10,
   "metadata": {},
   "outputs": [],
   "source": [
    "education_map = {\n",
    "            \"10th\": \"Dropout\",\n",
    "            \"11th\": \"Dropout\",\n",
    "            \"12th\": \"Dropout\",\n",
    "            \"1st-4th\": \"Dropout\",\n",
    "            \"5th-6th\": \"Dropout\",\n",
    "            \"7th-8th\": \"Dropout\",\n",
    "            \"9th\": \"Dropout\",\n",
    "            \"Preschool\": \"Dropout\",\n",
    "            \"HS-grad\": \"High School grad\",\n",
    "            \"Some-college\": \"High School grad\",\n",
    "            \"Masters\": \"Masters\",\n",
    "            \"Prof-school\": \"Prof-School\",\n",
    "            \"Assoc-acdm\": \"Associates\",\n",
    "            \"Assoc-voc\": \"Associates\",\n",
    "        }"
   ]
  },
  {
   "cell_type": "code",
   "execution_count": 11,
   "metadata": {},
   "outputs": [],
   "source": [
    "occupation_map = {\n",
    "            \"Adm-clerical\": \"Admin\",\n",
    "            \"Armed-Forces\": \"Military\",\n",
    "            \"Craft-repair\": \"Blue-Collar\",\n",
    "            \"Exec-managerial\": \"White-Collar\",\n",
    "            \"Farming-fishing\": \"Blue-Collar\",\n",
    "            \"Handlers-cleaners\": \"Blue-Collar\",\n",
    "            \"Machine-op-inspct\": \"Blue-Collar\",\n",
    "            \"Other-service\": \"Service\",\n",
    "            \"Priv-house-serv\": \"Service\",\n",
    "            \"Prof-specialty\": \"Professional\",\n",
    "            \"Protective-serv\": \"Other\",\n",
    "            \"Sales\": \"Sales\",\n",
    "            \"Tech-support\": \"Other\",\n",
    "            \"Transport-moving\": \"Blue-Collar\",\n",
    "        }"
   ]
  },
  {
   "cell_type": "code",
   "execution_count": 12,
   "metadata": {},
   "outputs": [],
   "source": [
    "country_map = {\n",
    "            \"Cambodia\": \"SE-Asia\",\n",
    "            \"Canada\": \"British-Commonwealth\",\n",
    "            \"China\": \"China\",\n",
    "            \"Columbia\": \"South-America\",\n",
    "            \"Cuba\": \"Other\",\n",
    "            \"Dominican-Republic\": \"Latin-America\",\n",
    "            \"Ecuador\": \"South-America\",\n",
    "            \"El-Salvador\": \"South-America\",\n",
    "            \"England\": \"British-Commonwealth\",\n",
    "            \"Guatemala\": \"Latin-America\",\n",
    "            \"Haiti\": \"Latin-America\",\n",
    "            \"Honduras\": \"Latin-America\",\n",
    "            \"Hong\": \"China\",\n",
    "            \"India\": \"British-Commonwealth\",\n",
    "            \"Ireland\": \"British-Commonwealth\",\n",
    "            \"Jamaica\": \"Latin-America\",\n",
    "            \"Laos\": \"SE-Asia\",\n",
    "            \"Mexico\": \"Latin-America\",\n",
    "            \"Nicaragua\": \"Latin-America\",\n",
    "            \"Outlying-US(Guam-USVI-etc)\": \"Latin-America\",\n",
    "            \"Peru\": \"South-America\",\n",
    "            \"Philippines\": \"SE-Asia\",\n",
    "            \"Puerto-Rico\": \"Latin-America\",\n",
    "            \"Scotland\": \"British-Commonwealth\",\n",
    "            \"Taiwan\": \"China\",\n",
    "            \"Thailand\": \"SE-Asia\",\n",
    "            \"Trinadad&Tobago\": \"Latin-America\",\n",
    "            \"United-States\": \"United-States\",\n",
    "            \"Vietnam\": \"SE-Asia\",\n",
    "        }"
   ]
  },
  {
   "cell_type": "code",
   "execution_count": 13,
   "metadata": {},
   "outputs": [],
   "source": [
    " married_map = {\n",
    "            \"Never-married\": \"Never-Married\",\n",
    "            \"Married-AF-spouse\": \"Married\",\n",
    "            \"Married-civ-spouse\": \"Married\",\n",
    "            \"Married-spouse-absent\": \"Separated\",\n",
    "            \"Divorced\": \"Separated\",\n",
    "        }"
   ]
  },
  {
   "cell_type": "code",
   "execution_count": 14,
   "metadata": {},
   "outputs": [],
   "source": [
    "mapping = {\n",
    "            \"education\": education_map,\n",
    "            \"occupation\": occupation_map,\n",
    "            \"native_country\": country_map,\n",
    "            \"marital_status\": married_map,\n",
    "        }"
   ]
  },
  {
   "cell_type": "code",
   "execution_count": 15,
   "metadata": {},
   "outputs": [],
   "source": [
    "def cleaning(x):\n",
    "    cleaned_x = x.replace(mapping)\n",
    "    return cleaned_x"
   ]
  },
  {
   "cell_type": "markdown",
   "metadata": {},
   "source": [
    "## Create a preprocessing function\n",
    "\n",
    "The data need to be preprocessed before be passed as input to the model. You can use your own custom code for the preprocessing, just remember to wrap all of it in a single function.\n",
    "\n",
    "Here, we create a pre-processing pipeline for the X using sklearn ColumnTransformer and Pipeline, then we fit it on the training X. The resulting _x-processing_ is already a single function, so ready to be passed to the wrapper."
   ]
  },
  {
   "cell_type": "code",
   "execution_count": 16,
   "metadata": {},
   "outputs": [],
   "source": [
    "ordinal_features = X_train.select_dtypes(include=\"number\").columns\n",
    "categorical_features = X_train.select_dtypes(include=\"object\").columns\n",
    "ordinal_transformer = Pipeline(\n",
    "    steps=[\n",
    "        (\"imputer\", SimpleImputer(strategy=\"median\")),\n",
    "        (\"scaler\", StandardScaler()),\n",
    "    ]\n",
    ")\n",
    "categorical_transformer = Pipeline(\n",
    "    steps=[\n",
    "        (\"imputer\", SimpleImputer(strategy=\"most_frequent\")),\n",
    "        (\"onehot\", OneHotEncoder(handle_unknown=\"ignore\")),\n",
    "    ]\n",
    ")\n",
    "x_processing = ColumnTransformer(\n",
    "    transformers=[\n",
    "        (\"ord\", ordinal_transformer, ordinal_features),\n",
    "        (\"cat\", categorical_transformer, categorical_features),\n",
    "    ]\n",
    ")"
   ]
  },
  {
   "cell_type": "code",
   "execution_count": 17,
   "metadata": {},
   "outputs": [
    {
     "output_type": "execute_result",
     "data": {
      "text/plain": [
       "ColumnTransformer(transformers=[('ord',\n",
       "                                 Pipeline(steps=[('imputer',\n",
       "                                                  SimpleImputer(strategy='median')),\n",
       "                                                 ('scaler', StandardScaler())]),\n",
       "                                 Index(['age', 'capital_gain', 'capital_loss', 'hours_per_week'], dtype='object')),\n",
       "                                ('cat',\n",
       "                                 Pipeline(steps=[('imputer',\n",
       "                                                  SimpleImputer(strategy='most_frequent')),\n",
       "                                                 ('onehot',\n",
       "                                                  OneHotEncoder(handle_unknown='ignore'))]),\n",
       "                                 Index(['work_class', 'education', 'marital_status', 'occupation',\n",
       "       'relationship', 'race', 'sex', 'native_country'],\n",
       "      dtype='object'))])"
      ]
     },
     "metadata": {},
     "execution_count": 17
    }
   ],
   "source": [
    "x_processing.fit(X_train)"
   ]
  },
  {
   "cell_type": "markdown",
   "metadata": {},
   "source": [
    "As usual we encode the Y labels through a simple LabelEncoder"
   ]
  },
  {
   "cell_type": "code",
   "execution_count": 18,
   "metadata": {
    "scrolled": true
   },
   "outputs": [
    {
     "output_type": "stream",
     "name": "stderr",
     "text": [
      "/home/andrea/clearbox_repos/clearbox-model-garden/.venv/lib/python3.8/site-packages/ipykernel/ipkernel.py:287: DeprecationWarning: `should_run_async` will not call `transform_cell` automatically in the future. Please pass the result to `transformed_cell` argument and any exception that happen during thetransform in `preprocessing_exc_tuple` in IPython 7.17 and above.\n  and should_run_async(code)\n"
     ]
    }
   ],
   "source": [
    "y_processing = LabelEncoder()"
   ]
  },
  {
   "cell_type": "code",
   "execution_count": 19,
   "metadata": {},
   "outputs": [
    {
     "output_type": "execute_result",
     "data": {
      "text/plain": [
       "LabelEncoder()"
      ]
     },
     "metadata": {},
     "execution_count": 19
    }
   ],
   "source": [
    "y_processing.fit(y_train)"
   ]
  },
  {
   "cell_type": "markdown",
   "metadata": {},
   "source": [
    "## Create and train the model\n",
    "\n",
    "We build a simple Keras network setting up some basic parameters:"
   ]
  },
  {
   "cell_type": "code",
   "execution_count": 20,
   "metadata": {},
   "outputs": [],
   "source": [
    "def keras_model(input_shape):\n",
    "    keras_clf = Sequential()\n",
    "    keras_clf.add(Dense(27, input_dim=input_shape, activation=\"relu\"))\n",
    "    keras_clf.add(Dense(14, activation=\"relu\"))\n",
    "    keras_clf.add(Dense(7, activation=\"relu\"))\n",
    "    keras_clf.add(Dense(1, activation=\"sigmoid\"))\n",
    "\n",
    "    keras_clf.compile(\n",
    "        optimizer=\"adam\", loss=\"binary_crossentropy\", metrics=[\"accuracy\"]\n",
    "    )\n",
    "    return keras_clf"
   ]
  },
  {
   "cell_type": "markdown",
   "metadata": {},
   "source": [
    "So we proceed to clean and pre-process the training data:"
   ]
  },
  {
   "cell_type": "code",
   "execution_count": 21,
   "metadata": {},
   "outputs": [],
   "source": [
    "X_train_cleaned = cleaning(X_train)"
   ]
  },
  {
   "cell_type": "code",
   "execution_count": 23,
   "metadata": {},
   "outputs": [],
   "source": [
    "X_train_processed = x_processing.transform(X_train_cleaned)"
   ]
  },
  {
   "cell_type": "markdown",
   "metadata": {},
   "source": [
    "Then, we encode the y training data:"
   ]
  },
  {
   "cell_type": "code",
   "execution_count": 24,
   "metadata": {},
   "outputs": [
    {
     "output_type": "stream",
     "name": "stderr",
     "text": [
      "/home/andrea/clearbox_repos/clearbox-model-garden/.venv/lib/python3.8/site-packages/ipykernel/ipkernel.py:287: DeprecationWarning: `should_run_async` will not call `transform_cell` automatically in the future. Please pass the result to `transformed_cell` argument and any exception that happen during thetransform in `preprocessing_exc_tuple` in IPython 7.17 and above.\n  and should_run_async(code)\n"
     ]
    }
   ],
   "source": [
    "y_train_processed = y_processing.transform(y_train)"
   ]
  },
  {
   "cell_type": "markdown",
   "metadata": {},
   "source": [
    "Finally, we fit the model on the processed data:"
   ]
  },
  {
   "cell_type": "code",
   "execution_count": 25,
   "metadata": {},
   "outputs": [
    {
     "output_type": "stream",
     "name": "stdout",
     "text": [
      "Epoch 1/10\n",
      "1018/1018 [==============================] - 1s 897us/step - loss: 0.3763 - accuracy: 0.8227\n",
      "Epoch 2/10\n",
      "1018/1018 [==============================] - 1s 908us/step - loss: 0.3320 - accuracy: 0.8429\n",
      "Epoch 3/10\n",
      "1018/1018 [==============================] - 1s 901us/step - loss: 0.3294 - accuracy: 0.8460\n",
      "Epoch 4/10\n",
      "1018/1018 [==============================] - 1s 875us/step - loss: 0.3280 - accuracy: 0.8456\n",
      "Epoch 5/10\n",
      "1018/1018 [==============================] - 1s 885us/step - loss: 0.3266 - accuracy: 0.8463\n",
      "Epoch 6/10\n",
      "1018/1018 [==============================] - 1s 945us/step - loss: 0.3255 - accuracy: 0.8469\n",
      "Epoch 7/10\n",
      "1018/1018 [==============================] - 1s 994us/step - loss: 0.3251 - accuracy: 0.8462\n",
      "Epoch 8/10\n",
      "1018/1018 [==============================] - 1s 886us/step - loss: 0.3231 - accuracy: 0.8482\n",
      "Epoch 9/10\n",
      "1018/1018 [==============================] - 1s 883us/step - loss: 0.3222 - accuracy: 0.8478\n",
      "Epoch 10/10\n",
      "1018/1018 [==============================] - 1s 1ms/step - loss: 0.3208 - accuracy: 0.8499\n"
     ]
    },
    {
     "output_type": "execute_result",
     "data": {
      "text/plain": [
       "<tensorflow.python.keras.callbacks.History at 0x7f6af6631fd0>"
      ]
     },
     "metadata": {},
     "execution_count": 25
    }
   ],
   "source": [
    "model = keras_model(X_train_processed.shape[1])\n",
    "model.fit(X_train_processed, y_train_processed, epochs=10, batch_size=32)"
   ]
  },
  {
   "cell_type": "markdown",
   "metadata": {},
   "source": [
    "## Wrap and Save the Model\n",
    "\n",
    "Finally, we use Clearbox Wrapper to wrap and save the model and the preprocessor as a zipped folder in a specified path. \n",
    "\n",
    "The model dependency (tensorflow) and its version it is detected automatically by CBW and added to the requirements saved into the resulting folder. But (**IMPORTANT**) you need to pass as a parameter the additional dependencies required for data-cleaning and preprocessing as a list. We need to add Pandas and Scikit-Learn in this case."
   ]
  },
  {
   "cell_type": "code",
   "execution_count": 26,
   "metadata": {},
   "outputs": [],
   "source": [
    "wrapped_model_path = 'adult_wrapped_model_v0.0.1'"
   ]
  },
  {
   "cell_type": "code",
   "execution_count": 27,
   "metadata": {},
   "outputs": [],
   "source": [
    "processing_dependencies = [\"pandas==1.2.0\", \"scikit-learn==0.23.2\"]"
   ]
  },
  {
   "cell_type": "code",
   "execution_count": 28,
   "metadata": {},
   "outputs": [
    {
     "output_type": "execute_result",
     "data": {
      "text/plain": [
       "<clearbox_wrapper.clearbox_wrapper.ClearboxWrapper at 0x7f6af65c3cd0>"
      ]
     },
     "metadata": {},
     "execution_count": 28
    }
   ],
   "source": [
    "cbw.save_model(wrapped_model_path, model, x_processing, cleaning, additional_deps=processing_dependencies)"
   ]
  },
  {
   "cell_type": "markdown",
   "metadata": {},
   "source": [
    "## Unzip and load the model\n",
    "\n",
    "The following cells are not necessary for the final users, the zip created should be uploaded to our SAAS as it is. But here we want to show how to load a saved model and compare it to the original one. Some lines similar to these are present in the backend of Clearbox AI SAAS."
   ]
  },
  {
   "cell_type": "code",
   "execution_count": 29,
   "metadata": {},
   "outputs": [],
   "source": [
    "import zipfile"
   ]
  },
  {
   "cell_type": "code",
   "execution_count": 30,
   "metadata": {},
   "outputs": [],
   "source": [
    "zipped_model_path = 'adult_wrapped_model_v0.0.1.zip'\n",
    "unzipped_model_path = 'adult_wrapped_model_v0.0.1_unzipped'"
   ]
  },
  {
   "cell_type": "code",
   "execution_count": 31,
   "metadata": {},
   "outputs": [],
   "source": [
    "with zipfile.ZipFile(zipped_model_path, 'r') as zip_ref:\n",
    "    zip_ref.extractall(unzipped_model_path)"
   ]
  },
  {
   "cell_type": "code",
   "execution_count": 32,
   "metadata": {},
   "outputs": [],
   "source": [
    "loaded_model = cbw.load_model(unzipped_model_path)"
   ]
  },
  {
   "cell_type": "markdown",
   "metadata": {},
   "source": [
    "Using the original model, the input data (X_test) must goes through both the data_cleaning function and the pre-processing function before the model."
   ]
  },
  {
   "cell_type": "code",
   "execution_count": 33,
   "metadata": {},
   "outputs": [],
   "source": [
    "X_test_cleaned = cleaning(X_test)\n",
    "X_test_processed = x_processing.transform(X_test_cleaned)\n",
    "original_model_predictions = model.predict(X_test_processed)"
   ]
  },
  {
   "cell_type": "markdown",
   "metadata": {},
   "source": [
    "Using the wrapped model, **both the data cleaning and the pre-processing are part of the predict pipeline**, so we can pass directly the raw input data to the predict function of the model: "
   ]
  },
  {
   "cell_type": "code",
   "execution_count": 34,
   "metadata": {
    "scrolled": true
   },
   "outputs": [
    {
     "output_type": "stream",
     "name": "stdout",
     "text": [
      "WARNING:tensorflow:From /home/andrea/clearbox_repos/clearbox-model-garden/.venv/lib/python3.8/site-packages/clearbox_wrapper/clearbox_wrapper.py:210: Sequential.predict_proba (from tensorflow.python.keras.engine.sequential) is deprecated and will be removed after 2021-01-01.\n",
      "Instructions for updating:\n",
      "Please use `model.predict()` instead.\n",
      "/home/andrea/clearbox_repos/clearbox-model-garden/.venv/lib/python3.8/site-packages/ipykernel/ipkernel.py:287: DeprecationWarning: `should_run_async` will not call `transform_cell` automatically in the future. Please pass the result to `transformed_cell` argument and any exception that happen during thetransform in `preprocessing_exc_tuple` in IPython 7.17 and above.\n",
      "  and should_run_async(code)\n"
     ]
    }
   ],
   "source": [
    "loaded_model_predictions = loaded_model.predict(X_test)"
   ]
  },
  {
   "cell_type": "markdown",
   "metadata": {},
   "source": [
    "We check that the predictions made with the original model and the wrapped one are equal:"
   ]
  },
  {
   "cell_type": "code",
   "execution_count": 35,
   "metadata": {},
   "outputs": [],
   "source": [
    "np.testing.assert_array_equal(original_model_predictions, loaded_model_predictions)"
   ]
  },
  {
   "cell_type": "markdown",
   "metadata": {},
   "source": [
    "## Remove all generated files and directory"
   ]
  },
  {
   "cell_type": "code",
   "execution_count": null,
   "metadata": {},
   "outputs": [],
   "source": [
    "import os\n",
    "import shutil"
   ]
  },
  {
   "cell_type": "code",
   "execution_count": null,
   "metadata": {},
   "outputs": [],
   "source": [
    "if os.path.exists(zipped_model_path):\n",
    "        os.remove(zipped_model_path)"
   ]
  },
  {
   "cell_type": "code",
   "execution_count": null,
   "metadata": {},
   "outputs": [],
   "source": [
    "if os.path.exists(zipped_model_path):\n",
    "        os.remove(zipped_model_path)"
   ]
  }
 ],
 "metadata": {
  "kernelspec": {
   "display_name": "Python 3.8.5 64-bit ('.venv': venv)",
   "language": "python",
   "name": "python38564bitvenvvenv7a33c3e91b2549fb9dfe382dcd89dc8a"
  },
  "language_info": {
   "codemirror_mode": {
    "name": "ipython",
    "version": 3
   },
   "file_extension": ".py",
   "mimetype": "text/x-python",
   "name": "python",
   "nbconvert_exporter": "python",
   "pygments_lexer": "ipython3",
   "version": "3.8.5-final"
  }
 },
 "nbformat": 4,
 "nbformat_minor": 4
}
