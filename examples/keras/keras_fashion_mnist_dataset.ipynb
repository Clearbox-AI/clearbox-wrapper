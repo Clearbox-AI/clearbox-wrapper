{
 "cells": [
  {
   "cell_type": "code",
   "execution_count": 1,
   "metadata": {},
   "outputs": [],
   "source": [
    "# TensorFlow and tf.keras\n",
    "import tensorflow as tf\n",
    "from tensorflow import keras\n",
    "\n",
    "# Helper libraries\n",
    "import numpy as np\n",
    "import matplotlib.pyplot as plt"
   ]
  },
  {
   "cell_type": "code",
   "execution_count": 2,
   "metadata": {},
   "outputs": [],
   "source": [
    "fashion_mnist = keras.datasets.fashion_mnist\n",
    "\n",
    "(train_images, train_labels), (test_images, test_labels) = fashion_mnist.load_data()"
   ]
  },
  {
   "cell_type": "code",
   "execution_count": 3,
   "metadata": {},
   "outputs": [],
   "source": [
    "class_names = ['T-shirt/top', 'Trouser', 'Pullover', 'Dress', 'Coat',\n",
    "               'Sandal', 'Shirt', 'Sneaker', 'Bag', 'Ankle boot']"
   ]
  },
  {
   "cell_type": "code",
   "execution_count": 4,
   "metadata": {},
   "outputs": [],
   "source": [
    "train_images = train_images / 255.0\n",
    "\n",
    "test_images = test_images / 255.0"
   ]
  },
  {
   "cell_type": "code",
   "execution_count": 5,
   "metadata": {},
   "outputs": [],
   "source": [
    "model = keras.Sequential([\n",
    "    keras.layers.Flatten(input_shape=(28, 28)),\n",
    "    keras.layers.Dense(128, activation='relu'),\n",
    "    keras.layers.Dense(10),\n",
    "    keras.layers.Softmax()\n",
    "])"
   ]
  },
  {
   "cell_type": "code",
   "execution_count": 6,
   "metadata": {},
   "outputs": [],
   "source": [
    "model.compile(optimizer='adam',\n",
    "              loss=tf.keras.losses.SparseCategoricalCrossentropy(from_logits=True),\n",
    "              metrics=['accuracy'])"
   ]
  },
  {
   "cell_type": "code",
   "execution_count": 7,
   "metadata": {},
   "outputs": [
    {
     "output_type": "stream",
     "name": "stdout",
     "text": "Epoch 1/10\n1875/1875 [==============================] - 2s 1ms/step - loss: 1.6895 - accuracy: 0.7797\nEpoch 2/10\n1875/1875 [==============================] - 2s 1ms/step - loss: 1.6237 - accuracy: 0.8403\nEpoch 3/10\n1875/1875 [==============================] - 2s 1ms/step - loss: 1.6090 - accuracy: 0.8538\nEpoch 4/10\n1875/1875 [==============================] - 2s 1ms/step - loss: 1.6016 - accuracy: 0.8609\nEpoch 5/10\n1875/1875 [==============================] - 2s 1ms/step - loss: 1.5960 - accuracy: 0.8664\nEpoch 6/10\n1875/1875 [==============================] - 2s 1ms/step - loss: 1.5917 - accuracy: 0.8706\nEpoch 7/10\n1875/1875 [==============================] - 2s 1ms/step - loss: 1.5868 - accuracy: 0.8750\nEpoch 8/10\n1875/1875 [==============================] - 2s 1ms/step - loss: 1.5842 - accuracy: 0.8778\nEpoch 9/10\n1875/1875 [==============================] - 2s 1ms/step - loss: 1.5822 - accuracy: 0.8795\nEpoch 10/10\n1875/1875 [==============================] - 2s 1ms/step - loss: 1.5793 - accuracy: 0.8828\n"
    },
    {
     "output_type": "execute_result",
     "data": {
      "text/plain": "<tensorflow.python.keras.callbacks.History at 0x7fd9d7aeb908>"
     },
     "metadata": {},
     "execution_count": 7
    }
   ],
   "source": [
    "model.fit(train_images, train_labels, epochs=10)"
   ]
  },
  {
   "cell_type": "code",
   "execution_count": 8,
   "metadata": {},
   "outputs": [
    {
     "output_type": "execute_result",
     "data": {
      "text/plain": "array([[2.05211011e-15, 4.92549184e-14, 1.58817404e-13, ...,\n        7.18543190e-04, 1.35361122e-09, 9.99268234e-01],\n       [2.81702877e-30, 8.37051711e-34, 1.00000000e+00, ...,\n        0.00000000e+00, 1.33413525e-32, 0.00000000e+00],\n       [9.54146051e-21, 1.00000000e+00, 7.28018509e-24, ...,\n        4.16287291e-36, 2.30907114e-30, 8.78702116e-36],\n       ...,\n       [1.27446820e-11, 1.02185922e-26, 9.82565700e-13, ...,\n        3.40580698e-17, 1.00000000e+00, 1.93825712e-22],\n       [5.27559667e-26, 1.00000000e+00, 1.90593548e-24, ...,\n        2.33404503e-30, 1.08970995e-36, 3.83741809e-21],\n       [2.57530515e-13, 3.14393937e-13, 4.44324513e-07, ...,\n        1.10567860e-04, 1.00238051e-03, 2.18905536e-12]], dtype=float32)"
     },
     "metadata": {},
     "execution_count": 8
    }
   ],
   "source": [
    "model.predict(test_images)"
   ]
  },
  {
   "cell_type": "code",
   "execution_count": 9,
   "metadata": {},
   "outputs": [
    {
     "output_type": "stream",
     "name": "stdout",
     "text": "WARNING:tensorflow:From /home/carmine/Code/clearbox-wrapper/venv/lib/python3.7/site-packages/tensorflow/python/ops/resource_variable_ops.py:1817: calling BaseResourceVariable.__init__ (from tensorflow.python.ops.resource_variable_ops) with constraint is deprecated and will be removed in a future version.\nInstructions for updating:\nIf using Keras pass *_constraint arguments to layers.\nINFO:tensorflow:Assets written to: ./keras_fashion_mnist_model/assets\n"
    }
   ],
   "source": [
    "model.save('./keras_fashion_mnist_model')"
   ]
  },
  {
   "cell_type": "code",
   "execution_count": 10,
   "metadata": {},
   "outputs": [],
   "source": [
    "from clearbox_wrapper.KerasWrapper import KerasWrapper"
   ]
  },
  {
   "cell_type": "code",
   "execution_count": 11,
   "metadata": {},
   "outputs": [],
   "source": [
    "class MyModel(KerasWrapper):\n",
    "    def __init__(self, model):\n",
    "       super().__init__(model) \n",
    "\n",
    "    def predict(self, X):\n",
    "        predictions = self.model.predict(X)\n",
    "        return predictions"
   ]
  },
  {
   "cell_type": "code",
   "execution_count": 12,
   "metadata": {},
   "outputs": [
    {
     "output_type": "stream",
     "name": "stdout",
     "text": "INFO:tensorflow:Assets written to: ./keras_fashion_mnist_model/assets\n"
    }
   ],
   "source": [
    "MyModel('./keras_fashion_mnist_model').dump('keras.model')"
   ]
  },
  {
   "cell_type": "code",
   "execution_count": 13,
   "metadata": {},
   "outputs": [
    {
     "output_type": "execute_result",
     "data": {
      "text/plain": "array([[2.05211011e-15, 4.92549184e-14, 1.58817404e-13, ...,\n        7.18543190e-04, 1.35361122e-09, 9.99268234e-01],\n       [2.81702877e-30, 8.37051711e-34, 1.00000000e+00, ...,\n        0.00000000e+00, 1.33413525e-32, 0.00000000e+00],\n       [9.54146051e-21, 1.00000000e+00, 7.28018509e-24, ...,\n        4.16287291e-36, 2.30907114e-30, 8.78702116e-36],\n       ...,\n       [1.27446820e-11, 1.02185922e-26, 9.82565700e-13, ...,\n        3.40580698e-17, 1.00000000e+00, 1.93825712e-22],\n       [5.27559667e-26, 1.00000000e+00, 1.90593548e-24, ...,\n        2.33404503e-30, 1.08970995e-36, 3.83741809e-21],\n       [2.57530515e-13, 3.14393937e-13, 4.44324513e-07, ...,\n        1.10567860e-04, 1.00238051e-03, 2.18905536e-12]], dtype=float32)"
     },
     "metadata": {},
     "execution_count": 13
    }
   ],
   "source": [
    "bar = MyModel.load('keras.model')\n",
    "bar.predict(test_images)"
   ]
  }
 ],
 "metadata": {
  "language_info": {
   "codemirror_mode": {
    "name": "ipython",
    "version": 3
   },
   "file_extension": ".py",
   "mimetype": "text/x-python",
   "name": "python",
   "nbconvert_exporter": "python",
   "pygments_lexer": "ipython3",
   "version": "3.7.2-final"
  },
  "orig_nbformat": 2,
  "kernelspec": {
   "name": "python36964bitvenvvenv96cb1235e3cf4c0598e68d774cc24225",
   "display_name": "Python 3.6.9 64-bit ('venv': venv)"
  }
 },
 "nbformat": 4,
 "nbformat_minor": 2
}