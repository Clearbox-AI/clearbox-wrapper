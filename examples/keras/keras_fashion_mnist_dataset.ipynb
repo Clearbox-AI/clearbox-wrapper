{
 "cells": [
  {
   "cell_type": "code",
   "execution_count": 1,
   "metadata": {},
   "outputs": [],
   "source": [
    "# TensorFlow and tf.keras\n",
    "import tensorflow as tf\n",
    "from tensorflow import keras\n",
    "\n",
    "# Helper libraries\n",
    "import numpy as np\n",
    "import matplotlib.pyplot as plt"
   ]
  },
  {
   "cell_type": "code",
   "execution_count": 2,
   "metadata": {},
   "outputs": [],
   "source": [
    "fashion_mnist = keras.datasets.fashion_mnist\n",
    "\n",
    "(train_images, train_labels), (test_images, test_labels) = fashion_mnist.load_data()"
   ]
  },
  {
   "cell_type": "code",
   "execution_count": 3,
   "metadata": {},
   "outputs": [],
   "source": [
    "class_names = ['T-shirt/top', 'Trouser', 'Pullover', 'Dress', 'Coat',\n",
    "               'Sandal', 'Shirt', 'Sneaker', 'Bag', 'Ankle boot']"
   ]
  },
  {
   "cell_type": "code",
   "execution_count": 4,
   "metadata": {},
   "outputs": [],
   "source": [
    "train_images = train_images / 255.0\n",
    "\n",
    "test_images = test_images / 255.0"
   ]
  },
  {
   "cell_type": "code",
   "execution_count": 5,
   "metadata": {},
   "outputs": [],
   "source": [
    "model = keras.Sequential([\n",
    "    keras.layers.Flatten(input_shape=(28, 28)),\n",
    "    keras.layers.Dense(128, activation='relu'),\n",
    "    keras.layers.Dense(10),\n",
    "    keras.layers.Softmax()\n",
    "])"
   ]
  },
  {
   "cell_type": "code",
   "execution_count": 6,
   "metadata": {},
   "outputs": [],
   "source": [
    "model.compile(optimizer='adam',\n",
    "              loss=tf.keras.losses.SparseCategoricalCrossentropy(from_logits=True),\n",
    "              metrics=['accuracy'])"
   ]
  },
  {
   "cell_type": "code",
   "execution_count": 7,
   "metadata": {},
   "outputs": [
    {
     "output_type": "stream",
     "name": "stdout",
     "text": "Epoch 1/10\n1875/1875 [==============================] - 3s 1ms/step - loss: 1.7911 - accuracy: 0.6756\nEpoch 2/10\n1875/1875 [==============================] - 2s 1ms/step - loss: 1.7609 - accuracy: 0.6999\nEpoch 3/10\n1875/1875 [==============================] - 2s 1ms/step - loss: 1.7538 - accuracy: 0.7075\nEpoch 4/10\n1875/1875 [==============================] - 2s 1ms/step - loss: 1.7477 - accuracy: 0.7129\nEpoch 5/10\n1875/1875 [==============================] - 2s 1ms/step - loss: 1.7433 - accuracy: 0.7171\nEpoch 6/10\n1875/1875 [==============================] - 2s 1ms/step - loss: 1.7402 - accuracy: 0.7200\nEpoch 7/10\n1875/1875 [==============================] - 2s 1ms/step - loss: 1.7359 - accuracy: 0.7244\nEpoch 8/10\n1875/1875 [==============================] - 2s 1ms/step - loss: 1.7337 - accuracy: 0.7266\nEpoch 9/10\n1875/1875 [==============================] - 2s 1ms/step - loss: 1.7317 - accuracy: 0.7281\nEpoch 10/10\n1875/1875 [==============================] - 2s 1ms/step - loss: 1.7306 - accuracy: 0.7293\n"
    },
    {
     "output_type": "execute_result",
     "data": {
      "text/plain": "<tensorflow.python.keras.callbacks.History at 0x7ffae892c898>"
     },
     "metadata": {},
     "execution_count": 7
    }
   ],
   "source": [
    "model.fit(train_images, train_labels, epochs=10)"
   ]
  },
  {
   "cell_type": "code",
   "execution_count": 8,
   "metadata": {},
   "outputs": [
    {
     "output_type": "execute_result",
     "data": {
      "text/plain": "array([[1.35968407e-12, 4.08956275e-18, 1.00296514e-10, ...,\n        1.34273171e-01, 2.16719945e-05, 3.24082937e-14],\n       [5.54310407e-23, 5.88120149e-26, 1.00000000e+00, ...,\n        0.00000000e+00, 6.83737178e-26, 0.00000000e+00],\n       [3.19384697e-19, 1.00000000e+00, 1.93666709e-23, ...,\n        0.00000000e+00, 3.14195139e-30, 2.21169263e-38],\n       ...,\n       [2.00111870e-07, 3.41984027e-17, 4.43521504e-11, ...,\n        1.54395793e-14, 9.99957681e-01, 8.76228610e-20],\n       [2.35967770e-21, 1.00000000e+00, 9.28955090e-21, ...,\n        2.35926919e-24, 2.46836510e-24, 5.87119792e-28],\n       [5.09310427e-10, 2.65508948e-10, 4.63954984e-06, ...,\n        1.08545355e-04, 1.69331091e-04, 1.47876312e-11]], dtype=float32)"
     },
     "metadata": {},
     "execution_count": 8
    }
   ],
   "source": [
    "model.predict(test_images)"
   ]
  },
  {
   "cell_type": "code",
   "execution_count": 9,
   "metadata": {},
   "outputs": [
    {
     "output_type": "stream",
     "name": "stdout",
     "text": "WARNING:tensorflow:From /home/carmine/Code/clearbox-wrapper/venv/lib/python3.7/site-packages/tensorflow/python/ops/resource_variable_ops.py:1817: calling BaseResourceVariable.__init__ (from tensorflow.python.ops.resource_variable_ops) with constraint is deprecated and will be removed in a future version.\nInstructions for updating:\nIf using Keras pass *_constraint arguments to layers.\nINFO:tensorflow:Assets written to: ./keras_fashion_mnist_model/assets\n"
    }
   ],
   "source": [
    "model.save('./keras_fashion_mnist_model')"
   ]
  },
  {
   "cell_type": "code",
   "execution_count": 10,
   "metadata": {},
   "outputs": [],
   "source": [
    "from clearbox_wrapper.KerasWrapper import KerasWrapper"
   ]
  },
  {
   "cell_type": "code",
   "execution_count": 11,
   "metadata": {},
   "outputs": [],
   "source": [
    "class MyModel(KerasWrapper):\n",
    "    def __init__(self, model):\n",
    "       super().__init__(model) \n",
    "\n",
    "    def predict(self, X):\n",
    "        predictions = self.model.predict(X)\n",
    "        return predictions"
   ]
  },
  {
   "cell_type": "code",
   "execution_count": 12,
   "metadata": {},
   "outputs": [
    {
     "output_type": "stream",
     "name": "stdout",
     "text": "INFO:tensorflow:Assets written to: ./keras_fashion_mnist_model/assets\n"
    }
   ],
   "source": [
    "MyModel('./keras_fashion_mnist_model').dump('keras.model')"
   ]
  },
  {
   "cell_type": "code",
   "execution_count": 13,
   "metadata": {},
   "outputs": [
    {
     "output_type": "execute_result",
     "data": {
      "text/plain": "array([[1.35968407e-12, 4.08956275e-18, 1.00296514e-10, ...,\n        1.34273171e-01, 2.16719945e-05, 3.24082937e-14],\n       [5.54310407e-23, 5.88120149e-26, 1.00000000e+00, ...,\n        0.00000000e+00, 6.83737178e-26, 0.00000000e+00],\n       [3.19384697e-19, 1.00000000e+00, 1.93666709e-23, ...,\n        0.00000000e+00, 3.14195139e-30, 2.21169263e-38],\n       ...,\n       [2.00111870e-07, 3.41984027e-17, 4.43521504e-11, ...,\n        1.54395793e-14, 9.99957681e-01, 8.76228610e-20],\n       [2.35967770e-21, 1.00000000e+00, 9.28955090e-21, ...,\n        2.35926919e-24, 2.46836510e-24, 5.87119792e-28],\n       [5.09310427e-10, 2.65508948e-10, 4.63954984e-06, ...,\n        1.08545355e-04, 1.69331091e-04, 1.47876312e-11]], dtype=float32)"
     },
     "metadata": {},
     "execution_count": 13
    }
   ],
   "source": [
    "bar = MyModel.load('keras.model')\n",
    "bar.predict(test_images)"
   ]
  }
 ],
 "metadata": {
  "language_info": {
   "codemirror_mode": {
    "name": "ipython",
    "version": 3
   },
   "file_extension": ".py",
   "mimetype": "text/x-python",
   "name": "python",
   "nbconvert_exporter": "python",
   "pygments_lexer": "ipython3",
   "version": "3.7.2-final"
  },
  "orig_nbformat": 2,
  "kernelspec": {
   "name": "python36964bitvenvvenv96cb1235e3cf4c0598e68d774cc24225",
   "display_name": "Python 3.6.9 64-bit ('venv': venv)"
  }
 },
 "nbformat": 4,
 "nbformat_minor": 2
}