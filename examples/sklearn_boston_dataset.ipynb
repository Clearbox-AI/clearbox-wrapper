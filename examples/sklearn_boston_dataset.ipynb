{
 "cells": [
  {
   "cell_type": "code",
   "execution_count": 1,
   "metadata": {},
   "outputs": [],
   "source": [
    "import numpy as np\n",
    "import pandas as pd\n",
    "\n",
    "from sklearn import datasets\n",
    "from sklearn.linear_model import LinearRegression\n",
    "from sklearn.model_selection import train_test_split\n"
   ]
  },
  {
   "cell_type": "code",
   "execution_count": 2,
   "metadata": {},
   "outputs": [],
   "source": [
    "boston = datasets.load_boston()\n",
    "\n",
    "bos = pd.DataFrame(boston.data, columns = boston.feature_names)\n",
    "bos['PRICE'] = boston.target"
   ]
  },
  {
   "cell_type": "code",
   "execution_count": 3,
   "metadata": {},
   "outputs": [
    {
     "output_type": "execute_result",
     "data": {
      "text/plain": "LinearRegression()"
     },
     "metadata": {},
     "execution_count": 3
    }
   ],
   "source": [
    "X = bos.drop('PRICE', axis = 1)\n",
    "y = bos['PRICE']\n",
    "\n",
    "X_train, X_test, y_train, y_test = train_test_split(X, y, test_size=0.2, random_state=42)\n",
    "\n",
    "lr = LinearRegression()\n",
    "lr.fit(X_train, y_train)"
   ]
  },
  {
   "cell_type": "code",
   "execution_count": 4,
   "metadata": {},
   "outputs": [],
   "source": [
    "from clearbox_wrapper.SklearnWrapper import SklearnWrapper"
   ]
  },
  {
   "cell_type": "code",
   "execution_count": 5,
   "metadata": {},
   "outputs": [],
   "source": [
    "class MyModel(SklearnWrapper):\n",
    "    def __init__(self, model):\n",
    "        super().__init__(model)\n",
    "\n",
    "    def predict(self, X):\n",
    "        predictions = self.model.predict(X)\n",
    "        return predictions"
   ]
  },
  {
   "cell_type": "code",
   "execution_count": 6,
   "metadata": {},
   "outputs": [],
   "source": [
    "MyModel(lr).dump('sklearn_boston.model')"
   ]
  },
  {
   "cell_type": "code",
   "execution_count": 7,
   "metadata": {},
   "outputs": [
    {
     "output_type": "execute_result",
     "data": {
      "text/plain": "array([28.99672362, 36.02556534, 14.81694405, 25.03197915, 18.76987992,\n       23.25442929, 17.66253818, 14.34119   , 23.01320703, 20.63245597,\n       24.90850512, 18.63883645, -6.08842184, 21.75834668, 19.23922576,\n       26.19319733, 20.64773313,  5.79472718, 40.50033966, 17.61289074,\n       27.24909479, 30.06625441, 11.34179277, 24.16077616, 17.86058499,\n       15.83609765, 22.78148106, 14.57704449, 22.43626052, 19.19631835,\n       22.43383455, 25.21979081, 25.93909562, 17.70162434, 16.76911711,\n       16.95125411, 31.23340153, 20.13246729, 23.76579011, 24.6322925 ,\n       13.94204955, 32.25576301, 42.67251161, 17.32745046, 27.27618614,\n       16.99310991, 14.07009109, 25.90341861, 20.29485982, 29.95339638,\n       21.28860173, 34.34451856, 16.04739105, 26.22562412, 39.53939798,\n       22.57950697, 18.84531367, 32.72531661, 25.0673037 , 12.88628956,\n       22.68221908, 30.48287757, 31.52626806, 15.90148607, 20.22094826,\n       16.71089812, 20.52384893, 25.96356264, 30.61607978, 11.59783023,\n       20.51232627, 27.48111878, 11.01962332, 15.68096344, 23.79316251,\n        6.19929359, 21.6039073 , 41.41377225, 18.76548695,  8.87931901,\n       20.83076916, 13.25620627, 20.73963699,  9.36482222, 23.22444271,\n       31.9155003 , 19.10228271, 25.51579303, 29.04256769, 20.14358566,\n       25.5859787 ,  5.70159447, 20.09474756, 14.95069156, 12.50395648,\n       20.72635294, 24.73957161, -0.164237  , 13.68486682, 16.18359697,\n       22.27621999, 24.47902364])"
     },
     "metadata": {},
     "execution_count": 7
    }
   ],
   "source": [
    "foo = SklearnWrapper.load('sklearn_boston.model')\n",
    "foo.predict(X_test)"
   ]
  }
 ],
 "metadata": {
  "language_info": {
   "codemirror_mode": {
    "name": "ipython",
    "version": 2
   },
   "file_extension": ".py",
   "mimetype": "text/x-python",
   "name": "python",
   "nbconvert_exporter": "python",
   "pygments_lexer": "ipython2",
   "version": "3.7.2-final"
  },
  "orig_nbformat": 2,
  "kernelspec": {
   "name": "python36964bitvenvvenv96cb1235e3cf4c0598e68d774cc24225",
   "display_name": "Python 3.6.9 64-bit ('venv': venv)"
  }
 },
 "nbformat": 4,
 "nbformat_minor": 2
}