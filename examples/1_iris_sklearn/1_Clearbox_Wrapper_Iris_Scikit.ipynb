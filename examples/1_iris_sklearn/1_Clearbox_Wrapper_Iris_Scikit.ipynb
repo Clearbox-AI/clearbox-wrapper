{
 "cells": [
  {
   "cell_type": "markdown",
   "metadata": {},
   "source": [
    "# Clearbox Wrapper Tutorial\n",
    "\n",
    "Clearbox Wrapper is a Python library to package and save a ML model.\n",
    "\n",
    "This is the simplest case possible: we'll wrap a Scikit-Learn model trained on the popular Iris Dataset. The dataset contains only ordinal values and we'll use all columns, so we do not need either **pre-processing** or **data cleaning** for the X. We'll just use a simple LabelEncoder to encode the y strings to numerical values (0, 1, 2), but the LabelEncoder doesn't need to be saved together with the model.\n",
    "\n",
    "## Install and import required libraries"
   ]
  },
  {
   "cell_type": "code",
   "execution_count": 1,
   "metadata": {
    "scrolled": true
   },
   "outputs": [
    {
     "output_type": "stream",
     "name": "stdout",
     "text": [
      "Requirement already satisfied: pandas in /home/andrea/clearbox_repos/clearbox-model-garden/.venv/lib/python3.8/site-packages (1.1.3)\n",
      "Requirement already satisfied: pytz>=2017.2 in /home/andrea/clearbox_repos/clearbox-model-garden/.venv/lib/python3.8/site-packages (from pandas) (2020.1)\n",
      "Requirement already satisfied: python-dateutil>=2.7.3 in /home/andrea/clearbox_repos/clearbox-model-garden/.venv/lib/python3.8/site-packages (from pandas) (2.8.1)\n",
      "Requirement already satisfied: numpy>=1.15.4 in /home/andrea/clearbox_repos/clearbox-model-garden/.venv/lib/python3.8/site-packages (from pandas) (1.18.5)\n",
      "Requirement already satisfied: six>=1.5 in /home/andrea/clearbox_repos/clearbox-model-garden/.venv/lib/python3.8/site-packages (from python-dateutil>=2.7.3->pandas) (1.15.0)\n",
      "\u001b[33mWARNING: You are using pip version 20.2.3; however, version 20.3.3 is available.\n",
      "You should consider upgrading via the '/home/andrea/clearbox_repos/clearbox-model-garden/.venv/bin/python -m pip install --upgrade pip' command.\u001b[0m\n",
      "Requirement already satisfied: numpy in /home/andrea/clearbox_repos/clearbox-model-garden/.venv/lib/python3.8/site-packages (1.18.5)\n",
      "\u001b[33mWARNING: You are using pip version 20.2.3; however, version 20.3.3 is available.\n",
      "You should consider upgrading via the '/home/andrea/clearbox_repos/clearbox-model-garden/.venv/bin/python -m pip install --upgrade pip' command.\u001b[0m\n",
      "Requirement already satisfied: scikit-learn in /home/andrea/clearbox_repos/clearbox-model-garden/.venv/lib/python3.8/site-packages (0.23.2)\n",
      "Requirement already satisfied: numpy>=1.13.3 in /home/andrea/clearbox_repos/clearbox-model-garden/.venv/lib/python3.8/site-packages (from scikit-learn) (1.18.5)\n",
      "Requirement already satisfied: scipy>=0.19.1 in /home/andrea/clearbox_repos/clearbox-model-garden/.venv/lib/python3.8/site-packages (from scikit-learn) (1.5.2)\n",
      "Requirement already satisfied: joblib>=0.11 in /home/andrea/clearbox_repos/clearbox-model-garden/.venv/lib/python3.8/site-packages (from scikit-learn) (0.17.0)\n",
      "Requirement already satisfied: threadpoolctl>=2.0.0 in /home/andrea/clearbox_repos/clearbox-model-garden/.venv/lib/python3.8/site-packages (from scikit-learn) (2.1.0)\n",
      "\u001b[33mWARNING: You are using pip version 20.2.3; however, version 20.3.3 is available.\n",
      "You should consider upgrading via the '/home/andrea/clearbox_repos/clearbox-model-garden/.venv/bin/python -m pip install --upgrade pip' command.\u001b[0m\n",
      "Requirement already satisfied: clearbox-wrapper in /home/andrea/clearbox_repos/clearbox-model-garden/.venv/lib/python3.8/site-packages (0.2.4)\n",
      "Requirement already satisfied: mlflow<2.0.0,>=1.11.0 in /home/andrea/clearbox_repos/clearbox-model-garden/.venv/lib/python3.8/site-packages (from clearbox-wrapper) (1.11.0)\n",
      "Requirement already satisfied: prometheus-flask-exporter in /home/andrea/clearbox_repos/clearbox-model-garden/.venv/lib/python3.8/site-packages (from mlflow<2.0.0,>=1.11.0->clearbox-wrapper) (0.18.0)\n",
      "Requirement already satisfied: alembic<=1.4.1 in /home/andrea/clearbox_repos/clearbox-model-garden/.venv/lib/python3.8/site-packages (from mlflow<2.0.0,>=1.11.0->clearbox-wrapper) (1.4.1)\n",
      "Requirement already satisfied: requests>=2.17.3 in /home/andrea/clearbox_repos/clearbox-model-garden/.venv/lib/python3.8/site-packages (from mlflow<2.0.0,>=1.11.0->clearbox-wrapper) (2.24.0)\n",
      "Requirement already satisfied: sqlalchemy<=1.3.13 in /home/andrea/clearbox_repos/clearbox-model-garden/.venv/lib/python3.8/site-packages (from mlflow<2.0.0,>=1.11.0->clearbox-wrapper) (1.3.13)\n",
      "Requirement already satisfied: gorilla in /home/andrea/clearbox_repos/clearbox-model-garden/.venv/lib/python3.8/site-packages (from mlflow<2.0.0,>=1.11.0->clearbox-wrapper) (0.3.0)\n",
      "Requirement already satisfied: gitpython>=2.1.0 in /home/andrea/clearbox_repos/clearbox-model-garden/.venv/lib/python3.8/site-packages (from mlflow<2.0.0,>=1.11.0->clearbox-wrapper) (3.1.9)\n",
      "Requirement already satisfied: querystring-parser in /home/andrea/clearbox_repos/clearbox-model-garden/.venv/lib/python3.8/site-packages (from mlflow<2.0.0,>=1.11.0->clearbox-wrapper) (1.2.4)\n",
      "Requirement already satisfied: databricks-cli>=0.8.7 in /home/andrea/clearbox_repos/clearbox-model-garden/.venv/lib/python3.8/site-packages (from mlflow<2.0.0,>=1.11.0->clearbox-wrapper) (0.12.1)\n",
      "Requirement already satisfied: pandas in /home/andrea/clearbox_repos/clearbox-model-garden/.venv/lib/python3.8/site-packages (from mlflow<2.0.0,>=1.11.0->clearbox-wrapper) (1.1.3)\n",
      "Requirement already satisfied: click>=7.0 in /home/andrea/clearbox_repos/clearbox-model-garden/.venv/lib/python3.8/site-packages (from mlflow<2.0.0,>=1.11.0->clearbox-wrapper) (7.1.2)\n",
      "Requirement already satisfied: cloudpickle in /home/andrea/clearbox_repos/clearbox-model-garden/.venv/lib/python3.8/site-packages (from mlflow<2.0.0,>=1.11.0->clearbox-wrapper) (1.6.0)\n",
      "Requirement already satisfied: protobuf>=3.6.0 in /home/andrea/clearbox_repos/clearbox-model-garden/.venv/lib/python3.8/site-packages (from mlflow<2.0.0,>=1.11.0->clearbox-wrapper) (3.13.0)\n",
      "Requirement already satisfied: numpy in /home/andrea/clearbox_repos/clearbox-model-garden/.venv/lib/python3.8/site-packages (from mlflow<2.0.0,>=1.11.0->clearbox-wrapper) (1.18.5)\n",
      "Requirement already satisfied: gunicorn; platform_system != \"Windows\" in /home/andrea/clearbox_repos/clearbox-model-garden/.venv/lib/python3.8/site-packages (from mlflow<2.0.0,>=1.11.0->clearbox-wrapper) (20.0.4)\n",
      "Requirement already satisfied: python-dateutil in /home/andrea/clearbox_repos/clearbox-model-garden/.venv/lib/python3.8/site-packages (from mlflow<2.0.0,>=1.11.0->clearbox-wrapper) (2.8.1)\n",
      "Requirement already satisfied: six>=1.10.0 in /home/andrea/clearbox_repos/clearbox-model-garden/.venv/lib/python3.8/site-packages (from mlflow<2.0.0,>=1.11.0->clearbox-wrapper) (1.15.0)\n",
      "Requirement already satisfied: Flask in /home/andrea/clearbox_repos/clearbox-model-garden/.venv/lib/python3.8/site-packages (from mlflow<2.0.0,>=1.11.0->clearbox-wrapper) (1.1.2)\n",
      "Requirement already satisfied: pyyaml in /home/andrea/clearbox_repos/clearbox-model-garden/.venv/lib/python3.8/site-packages (from mlflow<2.0.0,>=1.11.0->clearbox-wrapper) (5.3.1)\n",
      "Requirement already satisfied: entrypoints in /home/andrea/clearbox_repos/clearbox-model-garden/.venv/lib/python3.8/site-packages (from mlflow<2.0.0,>=1.11.0->clearbox-wrapper) (0.3)\n",
      "Requirement already satisfied: sqlparse in /home/andrea/clearbox_repos/clearbox-model-garden/.venv/lib/python3.8/site-packages (from mlflow<2.0.0,>=1.11.0->clearbox-wrapper) (0.4.1)\n",
      "Requirement already satisfied: azure-storage-blob>=12.0 in /home/andrea/clearbox_repos/clearbox-model-garden/.venv/lib/python3.8/site-packages (from mlflow<2.0.0,>=1.11.0->clearbox-wrapper) (12.5.0)\n",
      "Requirement already satisfied: docker>=4.0.0 in /home/andrea/clearbox_repos/clearbox-model-garden/.venv/lib/python3.8/site-packages (from mlflow<2.0.0,>=1.11.0->clearbox-wrapper) (4.2.2)\n",
      "Requirement already satisfied: prometheus-client in /home/andrea/clearbox_repos/clearbox-model-garden/.venv/lib/python3.8/site-packages (from prometheus-flask-exporter->mlflow<2.0.0,>=1.11.0->clearbox-wrapper) (0.8.0)\n",
      "Requirement already satisfied: Mako in /home/andrea/clearbox_repos/clearbox-model-garden/.venv/lib/python3.8/site-packages (from alembic<=1.4.1->mlflow<2.0.0,>=1.11.0->clearbox-wrapper) (1.1.3)\n",
      "Requirement already satisfied: python-editor>=0.3 in /home/andrea/clearbox_repos/clearbox-model-garden/.venv/lib/python3.8/site-packages (from alembic<=1.4.1->mlflow<2.0.0,>=1.11.0->clearbox-wrapper) (1.0.4)\n",
      "Requirement already satisfied: chardet<4,>=3.0.2 in /home/andrea/clearbox_repos/clearbox-model-garden/.venv/lib/python3.8/site-packages (from requests>=2.17.3->mlflow<2.0.0,>=1.11.0->clearbox-wrapper) (3.0.4)\n",
      "Requirement already satisfied: certifi>=2017.4.17 in /home/andrea/clearbox_repos/clearbox-model-garden/.venv/lib/python3.8/site-packages (from requests>=2.17.3->mlflow<2.0.0,>=1.11.0->clearbox-wrapper) (2020.6.20)\n",
      "Requirement already satisfied: idna<3,>=2.5 in /home/andrea/clearbox_repos/clearbox-model-garden/.venv/lib/python3.8/site-packages (from requests>=2.17.3->mlflow<2.0.0,>=1.11.0->clearbox-wrapper) (2.10)\n",
      "Requirement already satisfied: urllib3!=1.25.0,!=1.25.1,<1.26,>=1.21.1 in /home/andrea/clearbox_repos/clearbox-model-garden/.venv/lib/python3.8/site-packages (from requests>=2.17.3->mlflow<2.0.0,>=1.11.0->clearbox-wrapper) (1.25.10)\n",
      "Requirement already satisfied: gitdb<5,>=4.0.1 in /home/andrea/clearbox_repos/clearbox-model-garden/.venv/lib/python3.8/site-packages (from gitpython>=2.1.0->mlflow<2.0.0,>=1.11.0->clearbox-wrapper) (4.0.5)\n",
      "Requirement already satisfied: tenacity>=6.2.0 in /home/andrea/clearbox_repos/clearbox-model-garden/.venv/lib/python3.8/site-packages (from databricks-cli>=0.8.7->mlflow<2.0.0,>=1.11.0->clearbox-wrapper) (6.2.0)\n",
      "Requirement already satisfied: tabulate>=0.7.7 in /home/andrea/clearbox_repos/clearbox-model-garden/.venv/lib/python3.8/site-packages (from databricks-cli>=0.8.7->mlflow<2.0.0,>=1.11.0->clearbox-wrapper) (0.8.7)\n",
      "Requirement already satisfied: pytz>=2017.2 in /home/andrea/clearbox_repos/clearbox-model-garden/.venv/lib/python3.8/site-packages (from pandas->mlflow<2.0.0,>=1.11.0->clearbox-wrapper) (2020.1)\n",
      "Requirement already satisfied: setuptools in /home/andrea/clearbox_repos/clearbox-model-garden/.venv/lib/python3.8/site-packages (from protobuf>=3.6.0->mlflow<2.0.0,>=1.11.0->clearbox-wrapper) (49.6.0)\n",
      "Requirement already satisfied: Jinja2>=2.10.1 in /home/andrea/clearbox_repos/clearbox-model-garden/.venv/lib/python3.8/site-packages (from Flask->mlflow<2.0.0,>=1.11.0->clearbox-wrapper) (2.11.2)\n",
      "Requirement already satisfied: Werkzeug>=0.15 in /home/andrea/clearbox_repos/clearbox-model-garden/.venv/lib/python3.8/site-packages (from Flask->mlflow<2.0.0,>=1.11.0->clearbox-wrapper) (1.0.1)\n",
      "Requirement already satisfied: itsdangerous>=0.24 in /home/andrea/clearbox_repos/clearbox-model-garden/.venv/lib/python3.8/site-packages (from Flask->mlflow<2.0.0,>=1.11.0->clearbox-wrapper) (1.1.0)\n",
      "Requirement already satisfied: azure-core<2.0.0,>=1.6.0 in /home/andrea/clearbox_repos/clearbox-model-garden/.venv/lib/python3.8/site-packages (from azure-storage-blob>=12.0->mlflow<2.0.0,>=1.11.0->clearbox-wrapper) (1.8.2)\n",
      "Requirement already satisfied: cryptography>=2.1.4 in /home/andrea/clearbox_repos/clearbox-model-garden/.venv/lib/python3.8/site-packages (from azure-storage-blob>=12.0->mlflow<2.0.0,>=1.11.0->clearbox-wrapper) (3.1.1)\n",
      "Requirement already satisfied: msrest>=0.6.10 in /home/andrea/clearbox_repos/clearbox-model-garden/.venv/lib/python3.8/site-packages (from azure-storage-blob>=12.0->mlflow<2.0.0,>=1.11.0->clearbox-wrapper) (0.6.19)\n",
      "Requirement already satisfied: websocket-client>=0.32.0 in /home/andrea/clearbox_repos/clearbox-model-garden/.venv/lib/python3.8/site-packages (from docker>=4.0.0->mlflow<2.0.0,>=1.11.0->clearbox-wrapper) (0.57.0)\n",
      "Requirement already satisfied: MarkupSafe>=0.9.2 in /home/andrea/clearbox_repos/clearbox-model-garden/.venv/lib/python3.8/site-packages (from Mako->alembic<=1.4.1->mlflow<2.0.0,>=1.11.0->clearbox-wrapper) (1.1.1)\n",
      "Requirement already satisfied: smmap<4,>=3.0.1 in /home/andrea/clearbox_repos/clearbox-model-garden/.venv/lib/python3.8/site-packages (from gitdb<5,>=4.0.1->gitpython>=2.1.0->mlflow<2.0.0,>=1.11.0->clearbox-wrapper) (3.0.4)\n",
      "Requirement already satisfied: cffi!=1.11.3,>=1.8 in /home/andrea/clearbox_repos/clearbox-model-garden/.venv/lib/python3.8/site-packages (from cryptography>=2.1.4->azure-storage-blob>=12.0->mlflow<2.0.0,>=1.11.0->clearbox-wrapper) (1.14.3)\n",
      "Requirement already satisfied: requests-oauthlib>=0.5.0 in /home/andrea/clearbox_repos/clearbox-model-garden/.venv/lib/python3.8/site-packages (from msrest>=0.6.10->azure-storage-blob>=12.0->mlflow<2.0.0,>=1.11.0->clearbox-wrapper) (1.3.0)\n",
      "Requirement already satisfied: isodate>=0.6.0 in /home/andrea/clearbox_repos/clearbox-model-garden/.venv/lib/python3.8/site-packages (from msrest>=0.6.10->azure-storage-blob>=12.0->mlflow<2.0.0,>=1.11.0->clearbox-wrapper) (0.6.0)\n",
      "Requirement already satisfied: pycparser in /home/andrea/clearbox_repos/clearbox-model-garden/.venv/lib/python3.8/site-packages (from cffi!=1.11.3,>=1.8->cryptography>=2.1.4->azure-storage-blob>=12.0->mlflow<2.0.0,>=1.11.0->clearbox-wrapper) (2.20)\n",
      "Requirement already satisfied: oauthlib>=3.0.0 in /home/andrea/clearbox_repos/clearbox-model-garden/.venv/lib/python3.8/site-packages (from requests-oauthlib>=0.5.0->msrest>=0.6.10->azure-storage-blob>=12.0->mlflow<2.0.0,>=1.11.0->clearbox-wrapper) (3.1.0)\n",
      "\u001b[33mWARNING: You are using pip version 20.2.3; however, version 20.3.3 is available.\n",
      "You should consider upgrading via the '/home/andrea/clearbox_repos/clearbox-model-garden/.venv/bin/python -m pip install --upgrade pip' command.\u001b[0m\n"
     ]
    }
   ],
   "source": [
    "!pip install pandas\n",
    "!pip install numpy\n",
    "!pip install scikit-learn\n",
    "\n",
    "!pip install clearbox-wrapper"
   ]
  },
  {
   "cell_type": "code",
   "execution_count": 2,
   "metadata": {},
   "outputs": [],
   "source": [
    "import pandas as pd\n",
    "import numpy as np\n",
    "\n",
    "from sklearn.preprocessing import LabelEncoder\n",
    "from sklearn.tree import DecisionTreeClassifier\n",
    "\n",
    "import clearbox_wrapper as cbw"
   ]
  },
  {
   "cell_type": "markdown",
   "metadata": {},
   "source": [
    "## Datasets\n",
    "\n",
    "We have two different csv files for the training and test set."
   ]
  },
  {
   "cell_type": "code",
   "execution_count": 3,
   "metadata": {},
   "outputs": [],
   "source": [
    "iris_training_csv_path = 'iris_training_set.csv'\n",
    "iris_test_csv_path = 'iris_test_set.csv'"
   ]
  },
  {
   "cell_type": "code",
   "execution_count": 4,
   "metadata": {},
   "outputs": [],
   "source": [
    "iris_training = pd.read_csv(iris_training_csv_path)\n",
    "iris_test = pd.read_csv(iris_test_csv_path)"
   ]
  },
  {
   "cell_type": "code",
   "execution_count": 5,
   "metadata": {},
   "outputs": [],
   "source": [
    "target_column = 'species'"
   ]
  },
  {
   "cell_type": "code",
   "execution_count": 6,
   "metadata": {},
   "outputs": [],
   "source": [
    "y_train = iris_training[target_column]\n",
    "X_train = iris_training.drop(target_column, axis=1)"
   ]
  },
  {
   "cell_type": "code",
   "execution_count": 7,
   "metadata": {},
   "outputs": [],
   "source": [
    "y_test = iris_test[target_column]\n",
    "X_test = iris_test.drop(target_column, axis=1)"
   ]
  },
  {
   "cell_type": "code",
   "execution_count": 8,
   "metadata": {},
   "outputs": [
    {
     "output_type": "stream",
     "name": "stdout",
     "text": [
      "<class 'pandas.core.frame.DataFrame'>\nRangeIndex: 120 entries, 0 to 119\nData columns (total 4 columns):\n #   Column        Non-Null Count  Dtype  \n---  ------        --------------  -----  \n 0   sepal_length  120 non-null    float64\n 1   sepal_width   120 non-null    float64\n 2   petal_length  120 non-null    float64\n 3   petal_width   120 non-null    float64\ndtypes: float64(4)\nmemory usage: 3.9 KB\n"
     ]
    }
   ],
   "source": [
    "X_train.info()"
   ]
  },
  {
   "cell_type": "code",
   "execution_count": 9,
   "metadata": {},
   "outputs": [
    {
     "output_type": "stream",
     "name": "stdout",
     "text": [
      "<class 'pandas.core.frame.DataFrame'>\nRangeIndex: 30 entries, 0 to 29\nData columns (total 4 columns):\n #   Column        Non-Null Count  Dtype  \n---  ------        --------------  -----  \n 0   sepal_length  30 non-null     float64\n 1   sepal_width   30 non-null     float64\n 2   petal_length  30 non-null     float64\n 3   petal_width   30 non-null     float64\ndtypes: float64(4)\nmemory usage: 1.1 KB\n"
     ]
    }
   ],
   "source": [
    "X_test.info()"
   ]
  },
  {
   "cell_type": "markdown",
   "metadata": {},
   "source": [
    "We create a simple LabelEncoder for the y series:"
   ]
  },
  {
   "cell_type": "code",
   "execution_count": 10,
   "metadata": {},
   "outputs": [],
   "source": [
    "y_encoder = LabelEncoder()"
   ]
  },
  {
   "cell_type": "markdown",
   "metadata": {},
   "source": [
    "We fit the LabelEncoder on the y of the training set and we get the encoded y for both the datasets:"
   ]
  },
  {
   "cell_type": "code",
   "execution_count": 11,
   "metadata": {},
   "outputs": [],
   "source": [
    "y_train = y_encoder.fit_transform(y_train)\n",
    "y_test = y_encoder.transform(y_test)"
   ]
  },
  {
   "cell_type": "markdown",
   "metadata": {},
   "source": [
    "## Create and train the model\n",
    "\n",
    "We build a simple Sklearn Decision Tree classifier setting some basic parameters..."
   ]
  },
  {
   "cell_type": "code",
   "execution_count": 12,
   "metadata": {},
   "outputs": [],
   "source": [
    "tree_clf = DecisionTreeClassifier(max_depth=4, random_state=42)"
   ]
  },
  {
   "cell_type": "markdown",
   "metadata": {},
   "source": [
    "...and fit on the training dataset:"
   ]
  },
  {
   "cell_type": "code",
   "execution_count": 13,
   "metadata": {},
   "outputs": [
    {
     "output_type": "execute_result",
     "data": {
      "text/plain": [
       "DecisionTreeClassifier(max_depth=4, random_state=42)"
      ]
     },
     "metadata": {},
     "execution_count": 13
    }
   ],
   "source": [
    "tree_clf.fit(X_train, y_train)"
   ]
  },
  {
   "cell_type": "markdown",
   "metadata": {},
   "source": [
    "## Wrap and Save the Model\n",
    "\n",
    "Finally, we use Clearbox Wrapper to wrap and save the model as a zipped folder in a specified path. The only dependency required for this model is Scikit Learn, but it is detected automatically by CBW and added to the requirements saved into the resulting folder."
   ]
  },
  {
   "cell_type": "code",
   "execution_count": 14,
   "metadata": {},
   "outputs": [],
   "source": [
    "wrapped_model_path = 'iris_wrapped_model_v0.0.1'"
   ]
  },
  {
   "cell_type": "code",
   "execution_count": 15,
   "metadata": {},
   "outputs": [
    {
     "output_type": "execute_result",
     "data": {
      "text/plain": [
       "<clearbox_wrapper.clearbox_wrapper.ClearboxWrapper at 0x7f17e23c0670>"
      ]
     },
     "metadata": {},
     "execution_count": 15
    }
   ],
   "source": [
    "cbw.save_model(wrapped_model_path, tree_clf)"
   ]
  },
  {
   "cell_type": "markdown",
   "metadata": {},
   "source": [
    "## Unzip and load the model\n",
    "\n",
    "The following cells are not necessary for the final users, the zip created should be uploaded to our SAAS as it is. But here we want to show how to load a saved model and compare it to the original one.\n",
    "\n",
    "**IMPORTANT**: The wrapped model method _predict_ tries always to predict probabilities if the method required to is available in the saved model. It will look for the method _predict_proba_ of the original model, and if it's not there (e.g. regression or model that output probabilities by default), it will use _predict_. So to compare the prediction results, we will use _predict_probas_ for the original model and _predict_ for the saved one."
   ]
  },
  {
   "cell_type": "code",
   "execution_count": 16,
   "metadata": {},
   "outputs": [],
   "source": [
    "import zipfile"
   ]
  },
  {
   "cell_type": "code",
   "execution_count": 17,
   "metadata": {},
   "outputs": [],
   "source": [
    "zipped_model_path = 'iris_wrapped_model_v0.0.1.zip'\n",
    "unzipped_model_path = 'iris_wrapped_model_v0.0.1_unzipped'"
   ]
  },
  {
   "cell_type": "code",
   "execution_count": 18,
   "metadata": {},
   "outputs": [],
   "source": [
    "with zipfile.ZipFile(zipped_model_path, 'r') as zip_ref:\n",
    "    zip_ref.extractall(unzipped_model_path)"
   ]
  },
  {
   "cell_type": "code",
   "execution_count": 19,
   "metadata": {},
   "outputs": [],
   "source": [
    "loaded_model = cbw.load_model(unzipped_model_path)"
   ]
  },
  {
   "cell_type": "code",
   "execution_count": 20,
   "metadata": {},
   "outputs": [],
   "source": [
    "original_model_predictions = tree_clf.predict_proba(X_test)"
   ]
  },
  {
   "cell_type": "code",
   "execution_count": 21,
   "metadata": {},
   "outputs": [
    {
     "output_type": "stream",
     "name": "stderr",
     "text": [
      "/home/andrea/clearbox_repos/clearbox-model-garden/.venv/lib/python3.8/site-packages/ipykernel/ipkernel.py:287: DeprecationWarning: `should_run_async` will not call `transform_cell` automatically in the future. Please pass the result to `transformed_cell` argument and any exception that happen during thetransform in `preprocessing_exc_tuple` in IPython 7.17 and above.\n  and should_run_async(code)\n"
     ]
    }
   ],
   "source": [
    "loaded_model_predictions = loaded_model.predict(X_test)"
   ]
  },
  {
   "cell_type": "code",
   "execution_count": 22,
   "metadata": {},
   "outputs": [],
   "source": [
    "np.testing.assert_array_equal(original_model_predictions, loaded_model_predictions)"
   ]
  },
  {
   "cell_type": "markdown",
   "metadata": {},
   "source": [
    "## Remove all generated files and directory"
   ]
  },
  {
   "cell_type": "code",
   "execution_count": null,
   "metadata": {},
   "outputs": [],
   "source": [
    "import os\n",
    "import shutil"
   ]
  },
  {
   "cell_type": "code",
   "execution_count": null,
   "metadata": {},
   "outputs": [],
   "source": [
    "if os.path.exists(zipped_model_path):\n",
    "        os.remove(zipped_model_path)"
   ]
  },
  {
   "cell_type": "code",
   "execution_count": null,
   "metadata": {},
   "outputs": [],
   "source": [
    "if os.path.exists(unzipped_model_path):\n",
    "        shutil.rmtree(unzipped_model_path)"
   ]
  }
 ],
 "metadata": {
  "kernelspec": {
   "display_name": "Python 3.8.5 64-bit ('.venv': venv)",
   "language": "python",
   "name": "python38564bitvenvvenv7a33c3e91b2549fb9dfe382dcd89dc8a"
  },
  "language_info": {
   "codemirror_mode": {
    "name": "ipython",
    "version": 3
   },
   "file_extension": ".py",
   "mimetype": "text/x-python",
   "name": "python",
   "nbconvert_exporter": "python",
   "pygments_lexer": "ipython3",
   "version": "3.8.5-final"
  }
 },
 "nbformat": 4,
 "nbformat_minor": 4
}
