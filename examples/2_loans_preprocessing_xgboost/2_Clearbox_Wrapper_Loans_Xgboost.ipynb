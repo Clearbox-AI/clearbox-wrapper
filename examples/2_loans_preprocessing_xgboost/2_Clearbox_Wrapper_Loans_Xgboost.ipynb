{
 "cells": [
  {
   "cell_type": "markdown",
   "metadata": {},
   "source": [
    "# Clearbox Wrapper Tutorial\n",
    "\n",
    "Clearbox Wrapper is a Python library to package and save a ML model.\n",
    "\n",
    "We'll use the Lending Club Loans dataset and build a Xgboost classifier on it.\n",
    "\n",
    "Before feeding the data to the model, we need to pre-process them. Pre-processing code is usually written as a separate element wrt to the model, during the development phase. We want to wrap and save the pre-processing along with the model so to have a pipeline Processing+Model ready to take unprocessed data, process them and make predictions.\n",
    "\n",
    "We can do that with Clearbox Wrapper, but all the pre-processing code must be wrapped in a single function. In this way, we can pass the function to the _save_model_ method.\n",
    "\n",
    "## Install and import required libraries"
   ]
  },
  {
   "cell_type": "code",
   "execution_count": 1,
   "metadata": {},
   "outputs": [
    {
     "output_type": "stream",
     "name": "stdout",
     "text": [
      "Requirement already satisfied: pandas in /home/andrea/clearbox_repos/clearbox-model-garden/.venv/lib/python3.8/site-packages (1.1.3)\n",
      "Requirement already satisfied: pytz>=2017.2 in /home/andrea/clearbox_repos/clearbox-model-garden/.venv/lib/python3.8/site-packages (from pandas) (2020.1)\n",
      "Requirement already satisfied: numpy>=1.15.4 in /home/andrea/clearbox_repos/clearbox-model-garden/.venv/lib/python3.8/site-packages (from pandas) (1.18.5)\n",
      "Requirement already satisfied: python-dateutil>=2.7.3 in /home/andrea/clearbox_repos/clearbox-model-garden/.venv/lib/python3.8/site-packages (from pandas) (2.8.1)\n",
      "Requirement already satisfied: six>=1.5 in /home/andrea/clearbox_repos/clearbox-model-garden/.venv/lib/python3.8/site-packages (from python-dateutil>=2.7.3->pandas) (1.15.0)\n",
      "\u001b[33mWARNING: You are using pip version 20.2.3; however, version 20.3.3 is available.\n",
      "You should consider upgrading via the '/home/andrea/clearbox_repos/clearbox-model-garden/.venv/bin/python -m pip install --upgrade pip' command.\u001b[0m\n",
      "Requirement already satisfied: numpy in /home/andrea/clearbox_repos/clearbox-model-garden/.venv/lib/python3.8/site-packages (1.18.5)\n",
      "\u001b[33mWARNING: You are using pip version 20.2.3; however, version 20.3.3 is available.\n",
      "You should consider upgrading via the '/home/andrea/clearbox_repos/clearbox-model-garden/.venv/bin/python -m pip install --upgrade pip' command.\u001b[0m\n",
      "Requirement already satisfied: scikit-learn in /home/andrea/clearbox_repos/clearbox-model-garden/.venv/lib/python3.8/site-packages (0.23.2)\n",
      "Requirement already satisfied: scipy>=0.19.1 in /home/andrea/clearbox_repos/clearbox-model-garden/.venv/lib/python3.8/site-packages (from scikit-learn) (1.5.2)\n",
      "Requirement already satisfied: threadpoolctl>=2.0.0 in /home/andrea/clearbox_repos/clearbox-model-garden/.venv/lib/python3.8/site-packages (from scikit-learn) (2.1.0)\n",
      "Requirement already satisfied: numpy>=1.13.3 in /home/andrea/clearbox_repos/clearbox-model-garden/.venv/lib/python3.8/site-packages (from scikit-learn) (1.18.5)\n",
      "Requirement already satisfied: joblib>=0.11 in /home/andrea/clearbox_repos/clearbox-model-garden/.venv/lib/python3.8/site-packages (from scikit-learn) (0.17.0)\n",
      "\u001b[33mWARNING: You are using pip version 20.2.3; however, version 20.3.3 is available.\n",
      "You should consider upgrading via the '/home/andrea/clearbox_repos/clearbox-model-garden/.venv/bin/python -m pip install --upgrade pip' command.\u001b[0m\n",
      "Requirement already satisfied: xgboost in /home/andrea/clearbox_repos/clearbox-model-garden/.venv/lib/python3.8/site-packages (1.2.0)\n",
      "Requirement already satisfied: scipy in /home/andrea/clearbox_repos/clearbox-model-garden/.venv/lib/python3.8/site-packages (from xgboost) (1.5.2)\n",
      "Requirement already satisfied: numpy in /home/andrea/clearbox_repos/clearbox-model-garden/.venv/lib/python3.8/site-packages (from xgboost) (1.18.5)\n",
      "\u001b[33mWARNING: You are using pip version 20.2.3; however, version 20.3.3 is available.\n",
      "You should consider upgrading via the '/home/andrea/clearbox_repos/clearbox-model-garden/.venv/bin/python -m pip install --upgrade pip' command.\u001b[0m\n",
      "Requirement already satisfied: clearbox-wrapper in /home/andrea/clearbox_repos/clearbox-model-garden/.venv/lib/python3.8/site-packages (0.2.4)\n",
      "Requirement already satisfied: mlflow<2.0.0,>=1.11.0 in /home/andrea/clearbox_repos/clearbox-model-garden/.venv/lib/python3.8/site-packages (from clearbox-wrapper) (1.11.0)\n",
      "Requirement already satisfied: prometheus-flask-exporter in /home/andrea/clearbox_repos/clearbox-model-garden/.venv/lib/python3.8/site-packages (from mlflow<2.0.0,>=1.11.0->clearbox-wrapper) (0.18.0)\n",
      "Requirement already satisfied: Flask in /home/andrea/clearbox_repos/clearbox-model-garden/.venv/lib/python3.8/site-packages (from mlflow<2.0.0,>=1.11.0->clearbox-wrapper) (1.1.2)\n",
      "Requirement already satisfied: azure-storage-blob>=12.0 in /home/andrea/clearbox_repos/clearbox-model-garden/.venv/lib/python3.8/site-packages (from mlflow<2.0.0,>=1.11.0->clearbox-wrapper) (12.5.0)\n",
      "Requirement already satisfied: databricks-cli>=0.8.7 in /home/andrea/clearbox_repos/clearbox-model-garden/.venv/lib/python3.8/site-packages (from mlflow<2.0.0,>=1.11.0->clearbox-wrapper) (0.12.1)\n",
      "Requirement already satisfied: cloudpickle in /home/andrea/clearbox_repos/clearbox-model-garden/.venv/lib/python3.8/site-packages (from mlflow<2.0.0,>=1.11.0->clearbox-wrapper) (1.6.0)\n",
      "Requirement already satisfied: sqlparse in /home/andrea/clearbox_repos/clearbox-model-garden/.venv/lib/python3.8/site-packages (from mlflow<2.0.0,>=1.11.0->clearbox-wrapper) (0.4.1)\n",
      "Requirement already satisfied: protobuf>=3.6.0 in /home/andrea/clearbox_repos/clearbox-model-garden/.venv/lib/python3.8/site-packages (from mlflow<2.0.0,>=1.11.0->clearbox-wrapper) (3.13.0)\n",
      "Requirement already satisfied: docker>=4.0.0 in /home/andrea/clearbox_repos/clearbox-model-garden/.venv/lib/python3.8/site-packages (from mlflow<2.0.0,>=1.11.0->clearbox-wrapper) (4.2.2)\n",
      "Requirement already satisfied: gitpython>=2.1.0 in /home/andrea/clearbox_repos/clearbox-model-garden/.venv/lib/python3.8/site-packages (from mlflow<2.0.0,>=1.11.0->clearbox-wrapper) (3.1.9)\n",
      "Requirement already satisfied: six>=1.10.0 in /home/andrea/clearbox_repos/clearbox-model-garden/.venv/lib/python3.8/site-packages (from mlflow<2.0.0,>=1.11.0->clearbox-wrapper) (1.15.0)\n",
      "Requirement already satisfied: gorilla in /home/andrea/clearbox_repos/clearbox-model-garden/.venv/lib/python3.8/site-packages (from mlflow<2.0.0,>=1.11.0->clearbox-wrapper) (0.3.0)\n",
      "Requirement already satisfied: querystring-parser in /home/andrea/clearbox_repos/clearbox-model-garden/.venv/lib/python3.8/site-packages (from mlflow<2.0.0,>=1.11.0->clearbox-wrapper) (1.2.4)\n",
      "Requirement already satisfied: click>=7.0 in /home/andrea/clearbox_repos/clearbox-model-garden/.venv/lib/python3.8/site-packages (from mlflow<2.0.0,>=1.11.0->clearbox-wrapper) (7.1.2)\n",
      "Requirement already satisfied: gunicorn; platform_system != \"Windows\" in /home/andrea/clearbox_repos/clearbox-model-garden/.venv/lib/python3.8/site-packages (from mlflow<2.0.0,>=1.11.0->clearbox-wrapper) (20.0.4)\n",
      "Requirement already satisfied: python-dateutil in /home/andrea/clearbox_repos/clearbox-model-garden/.venv/lib/python3.8/site-packages (from mlflow<2.0.0,>=1.11.0->clearbox-wrapper) (2.8.1)\n",
      "Requirement already satisfied: entrypoints in /home/andrea/clearbox_repos/clearbox-model-garden/.venv/lib/python3.8/site-packages (from mlflow<2.0.0,>=1.11.0->clearbox-wrapper) (0.3)\n",
      "Requirement already satisfied: sqlalchemy<=1.3.13 in /home/andrea/clearbox_repos/clearbox-model-garden/.venv/lib/python3.8/site-packages (from mlflow<2.0.0,>=1.11.0->clearbox-wrapper) (1.3.13)\n",
      "Requirement already satisfied: pyyaml in /home/andrea/clearbox_repos/clearbox-model-garden/.venv/lib/python3.8/site-packages (from mlflow<2.0.0,>=1.11.0->clearbox-wrapper) (5.3.1)\n",
      "Requirement already satisfied: requests>=2.17.3 in /home/andrea/clearbox_repos/clearbox-model-garden/.venv/lib/python3.8/site-packages (from mlflow<2.0.0,>=1.11.0->clearbox-wrapper) (2.24.0)\n",
      "Requirement already satisfied: alembic<=1.4.1 in /home/andrea/clearbox_repos/clearbox-model-garden/.venv/lib/python3.8/site-packages (from mlflow<2.0.0,>=1.11.0->clearbox-wrapper) (1.4.1)\n",
      "Requirement already satisfied: numpy in /home/andrea/clearbox_repos/clearbox-model-garden/.venv/lib/python3.8/site-packages (from mlflow<2.0.0,>=1.11.0->clearbox-wrapper) (1.18.5)\n",
      "Requirement already satisfied: pandas in /home/andrea/clearbox_repos/clearbox-model-garden/.venv/lib/python3.8/site-packages (from mlflow<2.0.0,>=1.11.0->clearbox-wrapper) (1.1.3)\n",
      "Requirement already satisfied: prometheus-client in /home/andrea/clearbox_repos/clearbox-model-garden/.venv/lib/python3.8/site-packages (from prometheus-flask-exporter->mlflow<2.0.0,>=1.11.0->clearbox-wrapper) (0.8.0)\n",
      "Requirement already satisfied: Jinja2>=2.10.1 in /home/andrea/clearbox_repos/clearbox-model-garden/.venv/lib/python3.8/site-packages (from Flask->mlflow<2.0.0,>=1.11.0->clearbox-wrapper) (2.11.2)\n",
      "Requirement already satisfied: Werkzeug>=0.15 in /home/andrea/clearbox_repos/clearbox-model-garden/.venv/lib/python3.8/site-packages (from Flask->mlflow<2.0.0,>=1.11.0->clearbox-wrapper) (1.0.1)\n",
      "Requirement already satisfied: itsdangerous>=0.24 in /home/andrea/clearbox_repos/clearbox-model-garden/.venv/lib/python3.8/site-packages (from Flask->mlflow<2.0.0,>=1.11.0->clearbox-wrapper) (1.1.0)\n",
      "Requirement already satisfied: msrest>=0.6.10 in /home/andrea/clearbox_repos/clearbox-model-garden/.venv/lib/python3.8/site-packages (from azure-storage-blob>=12.0->mlflow<2.0.0,>=1.11.0->clearbox-wrapper) (0.6.19)\n",
      "Requirement already satisfied: cryptography>=2.1.4 in /home/andrea/clearbox_repos/clearbox-model-garden/.venv/lib/python3.8/site-packages (from azure-storage-blob>=12.0->mlflow<2.0.0,>=1.11.0->clearbox-wrapper) (3.1.1)\n",
      "Requirement already satisfied: azure-core<2.0.0,>=1.6.0 in /home/andrea/clearbox_repos/clearbox-model-garden/.venv/lib/python3.8/site-packages (from azure-storage-blob>=12.0->mlflow<2.0.0,>=1.11.0->clearbox-wrapper) (1.8.2)\n",
      "Requirement already satisfied: tabulate>=0.7.7 in /home/andrea/clearbox_repos/clearbox-model-garden/.venv/lib/python3.8/site-packages (from databricks-cli>=0.8.7->mlflow<2.0.0,>=1.11.0->clearbox-wrapper) (0.8.7)\n",
      "Requirement already satisfied: tenacity>=6.2.0 in /home/andrea/clearbox_repos/clearbox-model-garden/.venv/lib/python3.8/site-packages (from databricks-cli>=0.8.7->mlflow<2.0.0,>=1.11.0->clearbox-wrapper) (6.2.0)\n",
      "Requirement already satisfied: setuptools in /home/andrea/clearbox_repos/clearbox-model-garden/.venv/lib/python3.8/site-packages (from protobuf>=3.6.0->mlflow<2.0.0,>=1.11.0->clearbox-wrapper) (49.6.0)\n",
      "Requirement already satisfied: websocket-client>=0.32.0 in /home/andrea/clearbox_repos/clearbox-model-garden/.venv/lib/python3.8/site-packages (from docker>=4.0.0->mlflow<2.0.0,>=1.11.0->clearbox-wrapper) (0.57.0)\n",
      "Requirement already satisfied: gitdb<5,>=4.0.1 in /home/andrea/clearbox_repos/clearbox-model-garden/.venv/lib/python3.8/site-packages (from gitpython>=2.1.0->mlflow<2.0.0,>=1.11.0->clearbox-wrapper) (4.0.5)\n",
      "Requirement already satisfied: urllib3!=1.25.0,!=1.25.1,<1.26,>=1.21.1 in /home/andrea/clearbox_repos/clearbox-model-garden/.venv/lib/python3.8/site-packages (from requests>=2.17.3->mlflow<2.0.0,>=1.11.0->clearbox-wrapper) (1.25.10)\n",
      "Requirement already satisfied: idna<3,>=2.5 in /home/andrea/clearbox_repos/clearbox-model-garden/.venv/lib/python3.8/site-packages (from requests>=2.17.3->mlflow<2.0.0,>=1.11.0->clearbox-wrapper) (2.10)\n",
      "Requirement already satisfied: certifi>=2017.4.17 in /home/andrea/clearbox_repos/clearbox-model-garden/.venv/lib/python3.8/site-packages (from requests>=2.17.3->mlflow<2.0.0,>=1.11.0->clearbox-wrapper) (2020.6.20)\n",
      "Requirement already satisfied: chardet<4,>=3.0.2 in /home/andrea/clearbox_repos/clearbox-model-garden/.venv/lib/python3.8/site-packages (from requests>=2.17.3->mlflow<2.0.0,>=1.11.0->clearbox-wrapper) (3.0.4)\n",
      "Requirement already satisfied: python-editor>=0.3 in /home/andrea/clearbox_repos/clearbox-model-garden/.venv/lib/python3.8/site-packages (from alembic<=1.4.1->mlflow<2.0.0,>=1.11.0->clearbox-wrapper) (1.0.4)\n",
      "Requirement already satisfied: Mako in /home/andrea/clearbox_repos/clearbox-model-garden/.venv/lib/python3.8/site-packages (from alembic<=1.4.1->mlflow<2.0.0,>=1.11.0->clearbox-wrapper) (1.1.3)\n",
      "Requirement already satisfied: pytz>=2017.2 in /home/andrea/clearbox_repos/clearbox-model-garden/.venv/lib/python3.8/site-packages (from pandas->mlflow<2.0.0,>=1.11.0->clearbox-wrapper) (2020.1)\n",
      "Requirement already satisfied: MarkupSafe>=0.23 in /home/andrea/clearbox_repos/clearbox-model-garden/.venv/lib/python3.8/site-packages (from Jinja2>=2.10.1->Flask->mlflow<2.0.0,>=1.11.0->clearbox-wrapper) (1.1.1)\n",
      "Requirement already satisfied: isodate>=0.6.0 in /home/andrea/clearbox_repos/clearbox-model-garden/.venv/lib/python3.8/site-packages (from msrest>=0.6.10->azure-storage-blob>=12.0->mlflow<2.0.0,>=1.11.0->clearbox-wrapper) (0.6.0)\n",
      "Requirement already satisfied: requests-oauthlib>=0.5.0 in /home/andrea/clearbox_repos/clearbox-model-garden/.venv/lib/python3.8/site-packages (from msrest>=0.6.10->azure-storage-blob>=12.0->mlflow<2.0.0,>=1.11.0->clearbox-wrapper) (1.3.0)\n",
      "Requirement already satisfied: cffi!=1.11.3,>=1.8 in /home/andrea/clearbox_repos/clearbox-model-garden/.venv/lib/python3.8/site-packages (from cryptography>=2.1.4->azure-storage-blob>=12.0->mlflow<2.0.0,>=1.11.0->clearbox-wrapper) (1.14.3)\n",
      "Requirement already satisfied: smmap<4,>=3.0.1 in /home/andrea/clearbox_repos/clearbox-model-garden/.venv/lib/python3.8/site-packages (from gitdb<5,>=4.0.1->gitpython>=2.1.0->mlflow<2.0.0,>=1.11.0->clearbox-wrapper) (3.0.4)\n",
      "Requirement already satisfied: oauthlib>=3.0.0 in /home/andrea/clearbox_repos/clearbox-model-garden/.venv/lib/python3.8/site-packages (from requests-oauthlib>=0.5.0->msrest>=0.6.10->azure-storage-blob>=12.0->mlflow<2.0.0,>=1.11.0->clearbox-wrapper) (3.1.0)\n",
      "Requirement already satisfied: pycparser in /home/andrea/clearbox_repos/clearbox-model-garden/.venv/lib/python3.8/site-packages (from cffi!=1.11.3,>=1.8->cryptography>=2.1.4->azure-storage-blob>=12.0->mlflow<2.0.0,>=1.11.0->clearbox-wrapper) (2.20)\n",
      "\u001b[33mWARNING: You are using pip version 20.2.3; however, version 20.3.3 is available.\n",
      "You should consider upgrading via the '/home/andrea/clearbox_repos/clearbox-model-garden/.venv/bin/python -m pip install --upgrade pip' command.\u001b[0m\n"
     ]
    }
   ],
   "source": [
    "!pip install pandas\n",
    "!pip install numpy\n",
    "!pip install scikit-learn\n",
    "!pip install xgboost\n",
    "\n",
    "!pip install clearbox-wrapper"
   ]
  },
  {
   "cell_type": "code",
   "execution_count": 2,
   "metadata": {},
   "outputs": [],
   "source": [
    "import pandas as pd\n",
    "import numpy as np\n",
    "\n",
    "from sklearn.pipeline import Pipeline\n",
    "from sklearn.compose import ColumnTransformer\n",
    "from sklearn.preprocessing import OneHotEncoder, StandardScaler, LabelEncoder\n",
    "from sklearn.impute import SimpleImputer\n",
    "\n",
    "from xgboost import XGBClassifier\n",
    "\n",
    "import clearbox_wrapper as cbw"
   ]
  },
  {
   "cell_type": "markdown",
   "metadata": {},
   "source": [
    "## Datasets\n",
    "\n",
    "We have two different csv files for the training and test set."
   ]
  },
  {
   "cell_type": "code",
   "execution_count": 3,
   "metadata": {},
   "outputs": [],
   "source": [
    "loans_training_csv_path = 'loans_training_set.csv'\n",
    "loans_test_csv_path = 'loans_test_set.csv'"
   ]
  },
  {
   "cell_type": "code",
   "execution_count": 5,
   "metadata": {},
   "outputs": [],
   "source": [
    "loans_training = pd.read_csv(loans_training_csv_path)\n",
    "loans_test = pd.read_csv(loans_test_csv_path)"
   ]
  },
  {
   "cell_type": "code",
   "execution_count": 6,
   "metadata": {},
   "outputs": [],
   "source": [
    "target_column = 'loan_risk'"
   ]
  },
  {
   "cell_type": "code",
   "execution_count": 7,
   "metadata": {},
   "outputs": [],
   "source": [
    "y_train = loans_training[target_column]\n",
    "X_train = loans_training.drop(target_column, axis=1)"
   ]
  },
  {
   "cell_type": "code",
   "execution_count": 8,
   "metadata": {},
   "outputs": [],
   "source": [
    "y_test = loans_test[target_column]\n",
    "X_test = loans_test.drop(target_column, axis=1)"
   ]
  },
  {
   "cell_type": "code",
   "execution_count": 9,
   "metadata": {},
   "outputs": [
    {
     "output_type": "stream",
     "name": "stdout",
     "text": [
      "<class 'pandas.core.frame.DataFrame'>\nRangeIndex: 31148 entries, 0 to 31147\nData columns (total 19 columns):\n #   Column              Non-Null Count  Dtype  \n---  ------              --------------  -----  \n 0   loan_amount         31148 non-null  int64  \n 1   payments_term       31148 non-null  object \n 2   monthly_payment     31148 non-null  float64\n 3   grade               31148 non-null  int64  \n 4   working_years       31148 non-null  int64  \n 5   home                31148 non-null  object \n 6   annual_income       31148 non-null  float64\n 7   verification        31148 non-null  object \n 8   purpose             31148 non-null  object \n 9   debt_to_income      31148 non-null  float64\n 10  delinquency         31148 non-null  int64  \n 11  inquiries           31148 non-null  int64  \n 12  open_credit_lines   31148 non-null  int64  \n 13  derogatory_records  31148 non-null  int64  \n 14  revolving_balance   31148 non-null  int64  \n 15  revolving_rate      31148 non-null  float64\n 16  total_accounts      31148 non-null  int64  \n 17  bankruptcies        31148 non-null  int64  \n 18  fico_average        31148 non-null  int64  \ndtypes: float64(4), int64(11), object(4)\nmemory usage: 4.5+ MB\n"
     ]
    }
   ],
   "source": [
    "X_train.info()"
   ]
  },
  {
   "cell_type": "code",
   "execution_count": 10,
   "metadata": {},
   "outputs": [
    {
     "output_type": "stream",
     "name": "stdout",
     "text": [
      "<class 'pandas.core.frame.DataFrame'>\nRangeIndex: 7788 entries, 0 to 7787\nData columns (total 19 columns):\n #   Column              Non-Null Count  Dtype  \n---  ------              --------------  -----  \n 0   loan_amount         7788 non-null   int64  \n 1   payments_term       7788 non-null   object \n 2   monthly_payment     7788 non-null   float64\n 3   grade               7788 non-null   int64  \n 4   working_years       7788 non-null   int64  \n 5   home                7788 non-null   object \n 6   annual_income       7788 non-null   float64\n 7   verification        7788 non-null   object \n 8   purpose             7788 non-null   object \n 9   debt_to_income      7788 non-null   float64\n 10  delinquency         7788 non-null   int64  \n 11  inquiries           7788 non-null   int64  \n 12  open_credit_lines   7788 non-null   int64  \n 13  derogatory_records  7788 non-null   int64  \n 14  revolving_balance   7788 non-null   int64  \n 15  revolving_rate      7788 non-null   float64\n 16  total_accounts      7788 non-null   int64  \n 17  bankruptcies        7788 non-null   int64  \n 18  fico_average        7788 non-null   int64  \ndtypes: float64(4), int64(11), object(4)\nmemory usage: 1.1+ MB\n"
     ]
    }
   ],
   "source": [
    "X_test.info()"
   ]
  },
  {
   "cell_type": "markdown",
   "metadata": {},
   "source": [
    "## Create a preprocessing function\n",
    "\n",
    "The data need to be preprocessed before be passed as input to the model. You can use your own custom code for the preprocessing, just remember to wrap all of it in a single function.\n",
    "\n",
    "The following preprocessing is built using several functions offered by Scikit Learn:\n"
   ]
  },
  {
   "cell_type": "code",
   "execution_count": 11,
   "metadata": {
    "pycharm": {
     "name": "#%%\n"
    }
   },
   "outputs": [],
   "source": [
    "ordinal_features = X_train.select_dtypes(include=['number']).columns.tolist()\n",
    "categorical_features = X_train.select_dtypes(include=['object']).columns.tolist()\n",
    "\n",
    "\n",
    "ordinal_transformer = Pipeline(steps=[('imputer', SimpleImputer(strategy='median')),\n",
    "                                      ('scaler', StandardScaler())])\n",
    "\n",
    "categorical_transformer = Pipeline(steps=[('imputer', SimpleImputer(strategy='most_frequent')),\n",
    "                                          ('onehot', OneHotEncoder(handle_unknown='ignore'))])\n",
    "\n",
    "x_preprocessor = ColumnTransformer(transformers=[('num', ordinal_transformer, ordinal_features),\n",
    "                                               ('cat', categorical_transformer, categorical_features)])"
   ]
  },
  {
   "cell_type": "code",
   "execution_count": 12,
   "metadata": {},
   "outputs": [
    {
     "output_type": "execute_result",
     "data": {
      "text/plain": [
       "ColumnTransformer(transformers=[('num',\n",
       "                                 Pipeline(steps=[('imputer',\n",
       "                                                  SimpleImputer(strategy='median')),\n",
       "                                                 ('scaler', StandardScaler())]),\n",
       "                                 ['loan_amount', 'monthly_payment', 'grade',\n",
       "                                  'working_years', 'annual_income',\n",
       "                                  'debt_to_income', 'delinquency', 'inquiries',\n",
       "                                  'open_credit_lines', 'derogatory_records',\n",
       "                                  'revolving_balance', 'revolving_rate',\n",
       "                                  'total_accounts', 'bankruptcies',\n",
       "                                  'fico_average']),\n",
       "                                ('cat',\n",
       "                                 Pipeline(steps=[('imputer',\n",
       "                                                  SimpleImputer(strategy='most_frequent')),\n",
       "                                                 ('onehot',\n",
       "                                                  OneHotEncoder(handle_unknown='ignore'))]),\n",
       "                                 ['payments_term', 'home', 'verification',\n",
       "                                  'purpose'])])"
      ]
     },
     "metadata": {},
     "execution_count": 12
    }
   ],
   "source": [
    "x_preprocessor.fit(X_train)"
   ]
  },
  {
   "cell_type": "markdown",
   "metadata": {},
   "source": [
    "As usual we encode the Y labels through a simple LabelEncoder"
   ]
  },
  {
   "cell_type": "code",
   "execution_count": 13,
   "metadata": {
    "scrolled": true
   },
   "outputs": [],
   "source": [
    "y_encoding = LabelEncoder()"
   ]
  },
  {
   "cell_type": "code",
   "execution_count": 14,
   "metadata": {},
   "outputs": [
    {
     "output_type": "execute_result",
     "data": {
      "text/plain": [
       "LabelEncoder()"
      ]
     },
     "metadata": {},
     "execution_count": 14
    }
   ],
   "source": [
    "y_encoding.fit(y_train)"
   ]
  },
  {
   "cell_type": "markdown",
   "metadata": {},
   "source": [
    "## Create and train the model\n",
    "\n",
    "We build a simple Xgboost classifier setting up some basic parameters:"
   ]
  },
  {
   "cell_type": "code",
   "execution_count": 15,
   "metadata": {},
   "outputs": [],
   "source": [
    "xgb_clf = XGBClassifier(n_estimators=30, max_depth=8, random_state=42)"
   ]
  },
  {
   "cell_type": "markdown",
   "metadata": {},
   "source": [
    "We proceed to pre-process the X and encode the Y:"
   ]
  },
  {
   "cell_type": "code",
   "execution_count": 16,
   "metadata": {},
   "outputs": [],
   "source": [
    "X_train_processed = x_preprocessor.transform(X_train)"
   ]
  },
  {
   "cell_type": "code",
   "execution_count": 17,
   "metadata": {},
   "outputs": [
    {
     "output_type": "stream",
     "name": "stderr",
     "text": [
      "/home/andrea/clearbox_repos/clearbox-model-garden/.venv/lib/python3.8/site-packages/ipykernel/ipkernel.py:287: DeprecationWarning: `should_run_async` will not call `transform_cell` automatically in the future. Please pass the result to `transformed_cell` argument and any exception that happen during thetransform in `preprocessing_exc_tuple` in IPython 7.17 and above.\n  and should_run_async(code)\n"
     ]
    }
   ],
   "source": [
    "y_train_encoded = y_encoding.transform(y_train)"
   ]
  },
  {
   "cell_type": "markdown",
   "metadata": {},
   "source": [
    "Finally, we fit the model on the processed data:"
   ]
  },
  {
   "cell_type": "code",
   "execution_count": 18,
   "metadata": {},
   "outputs": [
    {
     "output_type": "execute_result",
     "data": {
      "text/plain": [
       "XGBClassifier(base_score=0.5, booster='gbtree', colsample_bylevel=1,\n",
       "              colsample_bynode=1, colsample_bytree=1, gamma=0, gpu_id=-1,\n",
       "              importance_type='gain', interaction_constraints='',\n",
       "              learning_rate=0.300000012, max_delta_step=0, max_depth=8,\n",
       "              min_child_weight=1, missing=nan, monotone_constraints='()',\n",
       "              n_estimators=30, n_jobs=0, num_parallel_tree=1, random_state=42,\n",
       "              reg_alpha=0, reg_lambda=1, scale_pos_weight=1, subsample=1,\n",
       "              tree_method='exact', validate_parameters=1, verbosity=None)"
      ]
     },
     "metadata": {},
     "execution_count": 18
    }
   ],
   "source": [
    "xgb_clf.fit(X_train_processed, y_train_encoded)"
   ]
  },
  {
   "cell_type": "markdown",
   "metadata": {},
   "source": [
    "## Wrap and Save the Model\n",
    "\n",
    "Finally, we use Clearbox Wrapper to wrap and save the model and the preprocessor as a zipped folder in a specified path. \n",
    "\n",
    "The model dependency (xgboost) and its version it is detected automatically by CBW and added to the requirements saved into the resulting folder. But (**IMPORTANT**) you need to pass as a parameter the additional dependencies required for the preprocessing as a list. We need to add Scikit-Learn in this case."
   ]
  },
  {
   "cell_type": "code",
   "execution_count": 19,
   "metadata": {},
   "outputs": [],
   "source": [
    "wrapped_model_path = 'loans_xgboost_wrapped_model_v0.0.1'"
   ]
  },
  {
   "cell_type": "code",
   "execution_count": 20,
   "metadata": {},
   "outputs": [],
   "source": [
    "processing_dependencies = [\"scikit-learn==0.23.2\"]"
   ]
  },
  {
   "cell_type": "code",
   "execution_count": 21,
   "metadata": {},
   "outputs": [
    {
     "output_type": "execute_result",
     "data": {
      "text/plain": [
       "<clearbox_wrapper.clearbox_wrapper.ClearboxWrapper at 0x7fc66d84f880>"
      ]
     },
     "metadata": {},
     "execution_count": 21
    }
   ],
   "source": [
    "cbw.save_model(wrapped_model_path, xgb_clf, x_preprocessor, additional_deps=processing_dependencies)"
   ]
  },
  {
   "cell_type": "markdown",
   "metadata": {},
   "source": [
    "## Unzip and load the model\n",
    "\n",
    "The following cells are not necessary for the final users, the zip created should be uploaded to our SAAS as it is. But here we want to show how to load a saved model and compare it to the original one. Some lines similar to these are present in the backend of Clearbox AI SAAS."
   ]
  },
  {
   "cell_type": "code",
   "execution_count": 22,
   "metadata": {},
   "outputs": [],
   "source": [
    "import zipfile"
   ]
  },
  {
   "cell_type": "code",
   "execution_count": 23,
   "metadata": {},
   "outputs": [],
   "source": [
    "zipped_model_path = 'loans_xgboost_wrapped_model_v0.0.1.zip'\n",
    "unzipped_model_path = 'loans_xgboost_wrapped_model_v0.0.1_unzipped'"
   ]
  },
  {
   "cell_type": "code",
   "execution_count": 24,
   "metadata": {},
   "outputs": [],
   "source": [
    "with zipfile.ZipFile(zipped_model_path, 'r') as zip_ref:\n",
    "    zip_ref.extractall(unzipped_model_path)"
   ]
  },
  {
   "cell_type": "code",
   "execution_count": 25,
   "metadata": {},
   "outputs": [],
   "source": [
    "loaded_model = cbw.load_model(unzipped_model_path)"
   ]
  },
  {
   "cell_type": "markdown",
   "metadata": {},
   "source": [
    "Using the original model, the input data (X_test) must goes through the pre-processing function before the model."
   ]
  },
  {
   "cell_type": "code",
   "execution_count": 26,
   "metadata": {},
   "outputs": [],
   "source": [
    "X_test_processed = x_preprocessor.transform(X_test)\n",
    "original_model_predictions = xgb_clf.predict_proba(X_test_processed)"
   ]
  },
  {
   "cell_type": "markdown",
   "metadata": {},
   "source": [
    "Using the wrapped model, **the pre-processing is part of the predict pipeline**, so we can pass directly the raw input data to the predict function of the model: "
   ]
  },
  {
   "cell_type": "code",
   "execution_count": 28,
   "metadata": {
    "scrolled": true
   },
   "outputs": [],
   "source": [
    "loaded_model_predictions = loaded_model.predict(X_test)"
   ]
  },
  {
   "cell_type": "markdown",
   "metadata": {},
   "source": [
    "We check that the predictions made with the original model and the wrapped one are equal:"
   ]
  },
  {
   "cell_type": "code",
   "execution_count": 29,
   "metadata": {},
   "outputs": [
    {
     "output_type": "stream",
     "name": "stderr",
     "text": [
      "/home/andrea/clearbox_repos/clearbox-model-garden/.venv/lib/python3.8/site-packages/ipykernel/ipkernel.py:287: DeprecationWarning: `should_run_async` will not call `transform_cell` automatically in the future. Please pass the result to `transformed_cell` argument and any exception that happen during thetransform in `preprocessing_exc_tuple` in IPython 7.17 and above.\n  and should_run_async(code)\n"
     ]
    }
   ],
   "source": [
    "np.testing.assert_array_equal(original_model_predictions, loaded_model_predictions)"
   ]
  },
  {
   "cell_type": "markdown",
   "metadata": {},
   "source": [
    "## Remove all generated files and directory"
   ]
  },
  {
   "cell_type": "code",
   "execution_count": null,
   "metadata": {},
   "outputs": [],
   "source": [
    "import os\n",
    "import shutil"
   ]
  },
  {
   "cell_type": "code",
   "execution_count": null,
   "metadata": {},
   "outputs": [],
   "source": [
    "if os.path.exists(zipped_model_path):\n",
    "        os.remove(zipped_model_path)"
   ]
  },
  {
   "cell_type": "code",
   "execution_count": null,
   "metadata": {},
   "outputs": [],
   "source": [
    "if os.path.exists(unzipped_model_path):\n",
    "        shutil.rmtree(unzipped_model_path)"
   ]
  }
 ],
 "metadata": {
  "kernelspec": {
   "display_name": "Python 3.8.5 64-bit ('.venv')",
   "language": "python",
   "name": "python38564bitvenvf4e6d675467f4fcaba72691eca074bdc"
  },
  "language_info": {
   "codemirror_mode": {
    "name": "ipython",
    "version": 3
   },
   "file_extension": ".py",
   "mimetype": "text/x-python",
   "name": "python",
   "nbconvert_exporter": "python",
   "pygments_lexer": "ipython3",
   "version": "3.8.5-final"
  }
 },
 "nbformat": 4,
 "nbformat_minor": 4
}
