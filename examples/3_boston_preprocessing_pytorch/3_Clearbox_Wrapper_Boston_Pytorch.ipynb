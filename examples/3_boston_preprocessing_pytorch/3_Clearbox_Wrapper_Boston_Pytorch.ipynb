{
 "cells": [
  {
   "cell_type": "markdown",
   "metadata": {},
   "source": [
    "# Clearbox Wrapper Tutorial\n",
    "\n",
    "Clearbox Wrapper is a Python library to package and save a ML model.\n",
    "\n",
    "We'll use the popular Boston Housing dataset and build a Pytorch regressor on it.\n",
    "\n",
    "This is a typical case: before feeding the data to the model, we need to pre-process (scaling) them. Pre-processing code is usually written as a separate element wrt to the model, during the development phase. We want to wrap and save the pre-processing along with the model so to have a pipeline Processing+Model ready to take unprocessed data, process them and make predictions.\n",
    "\n",
    "We can do that with Clearbox Wrapper, but all the pre-processing code must be wrapped in a single function. In this way, we can pass the function to the _save_model_ method.\n",
    "\n",
    "## Install and import required libraries"
   ]
  },
  {
   "cell_type": "code",
   "execution_count": 1,
   "metadata": {
    "scrolled": true
   },
   "outputs": [
    {
     "output_type": "stream",
     "name": "stdout",
     "text": [
      "Requirement already satisfied: pandas in /home/andrea/clearbox_repos/clearbox-model-garden/.venv/lib/python3.8/site-packages (1.1.3)\n",
      "Requirement already satisfied: numpy>=1.15.4 in /home/andrea/clearbox_repos/clearbox-model-garden/.venv/lib/python3.8/site-packages (from pandas) (1.18.5)\n",
      "Requirement already satisfied: python-dateutil>=2.7.3 in /home/andrea/clearbox_repos/clearbox-model-garden/.venv/lib/python3.8/site-packages (from pandas) (2.8.1)\n",
      "Requirement already satisfied: pytz>=2017.2 in /home/andrea/clearbox_repos/clearbox-model-garden/.venv/lib/python3.8/site-packages (from pandas) (2020.1)\n",
      "Requirement already satisfied: six>=1.5 in /home/andrea/clearbox_repos/clearbox-model-garden/.venv/lib/python3.8/site-packages (from python-dateutil>=2.7.3->pandas) (1.15.0)\n",
      "\u001b[33mWARNING: You are using pip version 20.2.3; however, version 20.3.3 is available.\n",
      "You should consider upgrading via the '/home/andrea/clearbox_repos/clearbox-model-garden/.venv/bin/python -m pip install --upgrade pip' command.\u001b[0m\n",
      "Requirement already satisfied: numpy in /home/andrea/clearbox_repos/clearbox-model-garden/.venv/lib/python3.8/site-packages (1.18.5)\n",
      "\u001b[33mWARNING: You are using pip version 20.2.3; however, version 20.3.3 is available.\n",
      "You should consider upgrading via the '/home/andrea/clearbox_repos/clearbox-model-garden/.venv/bin/python -m pip install --upgrade pip' command.\u001b[0m\n",
      "Requirement already satisfied: scikit-learn in /home/andrea/clearbox_repos/clearbox-model-garden/.venv/lib/python3.8/site-packages (0.23.2)\n",
      "Requirement already satisfied: scipy>=0.19.1 in /home/andrea/clearbox_repos/clearbox-model-garden/.venv/lib/python3.8/site-packages (from scikit-learn) (1.5.2)\n",
      "Requirement already satisfied: threadpoolctl>=2.0.0 in /home/andrea/clearbox_repos/clearbox-model-garden/.venv/lib/python3.8/site-packages (from scikit-learn) (2.1.0)\n",
      "Requirement already satisfied: numpy>=1.13.3 in /home/andrea/clearbox_repos/clearbox-model-garden/.venv/lib/python3.8/site-packages (from scikit-learn) (1.18.5)\n",
      "Requirement already satisfied: joblib>=0.11 in /home/andrea/clearbox_repos/clearbox-model-garden/.venv/lib/python3.8/site-packages (from scikit-learn) (0.17.0)\n",
      "\u001b[33mWARNING: You are using pip version 20.2.3; however, version 20.3.3 is available.\n",
      "You should consider upgrading via the '/home/andrea/clearbox_repos/clearbox-model-garden/.venv/bin/python -m pip install --upgrade pip' command.\u001b[0m\n",
      "Requirement already satisfied: torch in /home/andrea/clearbox_repos/clearbox-model-garden/.venv/lib/python3.8/site-packages (1.6.0)\n",
      "Requirement already satisfied: numpy in /home/andrea/clearbox_repos/clearbox-model-garden/.venv/lib/python3.8/site-packages (from torch) (1.18.5)\n",
      "Requirement already satisfied: future in /home/andrea/clearbox_repos/clearbox-model-garden/.venv/lib/python3.8/site-packages (from torch) (0.18.2)\n",
      "\u001b[33mWARNING: You are using pip version 20.2.3; however, version 20.3.3 is available.\n",
      "You should consider upgrading via the '/home/andrea/clearbox_repos/clearbox-model-garden/.venv/bin/python -m pip install --upgrade pip' command.\u001b[0m\n",
      "Requirement already satisfied: clearbox-wrapper in /home/andrea/clearbox_repos/clearbox-model-garden/.venv/lib/python3.8/site-packages (0.2.4)\n",
      "Requirement already satisfied: mlflow<2.0.0,>=1.11.0 in /home/andrea/clearbox_repos/clearbox-model-garden/.venv/lib/python3.8/site-packages (from clearbox-wrapper) (1.11.0)\n",
      "Requirement already satisfied: databricks-cli>=0.8.7 in /home/andrea/clearbox_repos/clearbox-model-garden/.venv/lib/python3.8/site-packages (from mlflow<2.0.0,>=1.11.0->clearbox-wrapper) (0.12.1)\n",
      "Requirement already satisfied: docker>=4.0.0 in /home/andrea/clearbox_repos/clearbox-model-garden/.venv/lib/python3.8/site-packages (from mlflow<2.0.0,>=1.11.0->clearbox-wrapper) (4.2.2)\n",
      "Requirement already satisfied: python-dateutil in /home/andrea/clearbox_repos/clearbox-model-garden/.venv/lib/python3.8/site-packages (from mlflow<2.0.0,>=1.11.0->clearbox-wrapper) (2.8.1)\n",
      "Requirement already satisfied: entrypoints in /home/andrea/clearbox_repos/clearbox-model-garden/.venv/lib/python3.8/site-packages (from mlflow<2.0.0,>=1.11.0->clearbox-wrapper) (0.3)\n",
      "Requirement already satisfied: sqlalchemy<=1.3.13 in /home/andrea/clearbox_repos/clearbox-model-garden/.venv/lib/python3.8/site-packages (from mlflow<2.0.0,>=1.11.0->clearbox-wrapper) (1.3.13)\n",
      "Requirement already satisfied: prometheus-flask-exporter in /home/andrea/clearbox_repos/clearbox-model-garden/.venv/lib/python3.8/site-packages (from mlflow<2.0.0,>=1.11.0->clearbox-wrapper) (0.18.0)\n",
      "Requirement already satisfied: gorilla in /home/andrea/clearbox_repos/clearbox-model-garden/.venv/lib/python3.8/site-packages (from mlflow<2.0.0,>=1.11.0->clearbox-wrapper) (0.3.0)\n",
      "Requirement already satisfied: Flask in /home/andrea/clearbox_repos/clearbox-model-garden/.venv/lib/python3.8/site-packages (from mlflow<2.0.0,>=1.11.0->clearbox-wrapper) (1.1.2)\n",
      "Requirement already satisfied: querystring-parser in /home/andrea/clearbox_repos/clearbox-model-garden/.venv/lib/python3.8/site-packages (from mlflow<2.0.0,>=1.11.0->clearbox-wrapper) (1.2.4)\n",
      "Requirement already satisfied: sqlparse in /home/andrea/clearbox_repos/clearbox-model-garden/.venv/lib/python3.8/site-packages (from mlflow<2.0.0,>=1.11.0->clearbox-wrapper) (0.4.1)\n",
      "Requirement already satisfied: azure-storage-blob>=12.0 in /home/andrea/clearbox_repos/clearbox-model-garden/.venv/lib/python3.8/site-packages (from mlflow<2.0.0,>=1.11.0->clearbox-wrapper) (12.5.0)\n",
      "Requirement already satisfied: click>=7.0 in /home/andrea/clearbox_repos/clearbox-model-garden/.venv/lib/python3.8/site-packages (from mlflow<2.0.0,>=1.11.0->clearbox-wrapper) (7.1.2)\n",
      "Requirement already satisfied: alembic<=1.4.1 in /home/andrea/clearbox_repos/clearbox-model-garden/.venv/lib/python3.8/site-packages (from mlflow<2.0.0,>=1.11.0->clearbox-wrapper) (1.4.1)\n",
      "Requirement already satisfied: pyyaml in /home/andrea/clearbox_repos/clearbox-model-garden/.venv/lib/python3.8/site-packages (from mlflow<2.0.0,>=1.11.0->clearbox-wrapper) (5.3.1)\n",
      "Requirement already satisfied: requests>=2.17.3 in /home/andrea/clearbox_repos/clearbox-model-garden/.venv/lib/python3.8/site-packages (from mlflow<2.0.0,>=1.11.0->clearbox-wrapper) (2.24.0)\n",
      "Requirement already satisfied: pandas in /home/andrea/clearbox_repos/clearbox-model-garden/.venv/lib/python3.8/site-packages (from mlflow<2.0.0,>=1.11.0->clearbox-wrapper) (1.1.3)\n",
      "Requirement already satisfied: gitpython>=2.1.0 in /home/andrea/clearbox_repos/clearbox-model-garden/.venv/lib/python3.8/site-packages (from mlflow<2.0.0,>=1.11.0->clearbox-wrapper) (3.1.9)\n",
      "Requirement already satisfied: gunicorn; platform_system != \"Windows\" in /home/andrea/clearbox_repos/clearbox-model-garden/.venv/lib/python3.8/site-packages (from mlflow<2.0.0,>=1.11.0->clearbox-wrapper) (20.0.4)\n",
      "Requirement already satisfied: cloudpickle in /home/andrea/clearbox_repos/clearbox-model-garden/.venv/lib/python3.8/site-packages (from mlflow<2.0.0,>=1.11.0->clearbox-wrapper) (1.6.0)\n",
      "Requirement already satisfied: numpy in /home/andrea/clearbox_repos/clearbox-model-garden/.venv/lib/python3.8/site-packages (from mlflow<2.0.0,>=1.11.0->clearbox-wrapper) (1.18.5)\n",
      "Requirement already satisfied: protobuf>=3.6.0 in /home/andrea/clearbox_repos/clearbox-model-garden/.venv/lib/python3.8/site-packages (from mlflow<2.0.0,>=1.11.0->clearbox-wrapper) (3.13.0)\n",
      "Requirement already satisfied: six>=1.10.0 in /home/andrea/clearbox_repos/clearbox-model-garden/.venv/lib/python3.8/site-packages (from mlflow<2.0.0,>=1.11.0->clearbox-wrapper) (1.15.0)\n",
      "Requirement already satisfied: tenacity>=6.2.0 in /home/andrea/clearbox_repos/clearbox-model-garden/.venv/lib/python3.8/site-packages (from databricks-cli>=0.8.7->mlflow<2.0.0,>=1.11.0->clearbox-wrapper) (6.2.0)\n",
      "Requirement already satisfied: tabulate>=0.7.7 in /home/andrea/clearbox_repos/clearbox-model-garden/.venv/lib/python3.8/site-packages (from databricks-cli>=0.8.7->mlflow<2.0.0,>=1.11.0->clearbox-wrapper) (0.8.7)\n",
      "Requirement already satisfied: websocket-client>=0.32.0 in /home/andrea/clearbox_repos/clearbox-model-garden/.venv/lib/python3.8/site-packages (from docker>=4.0.0->mlflow<2.0.0,>=1.11.0->clearbox-wrapper) (0.57.0)\n",
      "Requirement already satisfied: prometheus-client in /home/andrea/clearbox_repos/clearbox-model-garden/.venv/lib/python3.8/site-packages (from prometheus-flask-exporter->mlflow<2.0.0,>=1.11.0->clearbox-wrapper) (0.8.0)\n",
      "Requirement already satisfied: itsdangerous>=0.24 in /home/andrea/clearbox_repos/clearbox-model-garden/.venv/lib/python3.8/site-packages (from Flask->mlflow<2.0.0,>=1.11.0->clearbox-wrapper) (1.1.0)\n",
      "Requirement already satisfied: Jinja2>=2.10.1 in /home/andrea/clearbox_repos/clearbox-model-garden/.venv/lib/python3.8/site-packages (from Flask->mlflow<2.0.0,>=1.11.0->clearbox-wrapper) (2.11.2)\n",
      "Requirement already satisfied: Werkzeug>=0.15 in /home/andrea/clearbox_repos/clearbox-model-garden/.venv/lib/python3.8/site-packages (from Flask->mlflow<2.0.0,>=1.11.0->clearbox-wrapper) (1.0.1)\n",
      "Requirement already satisfied: msrest>=0.6.10 in /home/andrea/clearbox_repos/clearbox-model-garden/.venv/lib/python3.8/site-packages (from azure-storage-blob>=12.0->mlflow<2.0.0,>=1.11.0->clearbox-wrapper) (0.6.19)\n",
      "Requirement already satisfied: azure-core<2.0.0,>=1.6.0 in /home/andrea/clearbox_repos/clearbox-model-garden/.venv/lib/python3.8/site-packages (from azure-storage-blob>=12.0->mlflow<2.0.0,>=1.11.0->clearbox-wrapper) (1.8.2)\n",
      "Requirement already satisfied: cryptography>=2.1.4 in /home/andrea/clearbox_repos/clearbox-model-garden/.venv/lib/python3.8/site-packages (from azure-storage-blob>=12.0->mlflow<2.0.0,>=1.11.0->clearbox-wrapper) (3.1.1)\n",
      "Requirement already satisfied: python-editor>=0.3 in /home/andrea/clearbox_repos/clearbox-model-garden/.venv/lib/python3.8/site-packages (from alembic<=1.4.1->mlflow<2.0.0,>=1.11.0->clearbox-wrapper) (1.0.4)\n",
      "Requirement already satisfied: Mako in /home/andrea/clearbox_repos/clearbox-model-garden/.venv/lib/python3.8/site-packages (from alembic<=1.4.1->mlflow<2.0.0,>=1.11.0->clearbox-wrapper) (1.1.3)\n",
      "Requirement already satisfied: certifi>=2017.4.17 in /home/andrea/clearbox_repos/clearbox-model-garden/.venv/lib/python3.8/site-packages (from requests>=2.17.3->mlflow<2.0.0,>=1.11.0->clearbox-wrapper) (2020.6.20)\n",
      "Requirement already satisfied: chardet<4,>=3.0.2 in /home/andrea/clearbox_repos/clearbox-model-garden/.venv/lib/python3.8/site-packages (from requests>=2.17.3->mlflow<2.0.0,>=1.11.0->clearbox-wrapper) (3.0.4)\n",
      "Requirement already satisfied: idna<3,>=2.5 in /home/andrea/clearbox_repos/clearbox-model-garden/.venv/lib/python3.8/site-packages (from requests>=2.17.3->mlflow<2.0.0,>=1.11.0->clearbox-wrapper) (2.10)\n",
      "Requirement already satisfied: urllib3!=1.25.0,!=1.25.1,<1.26,>=1.21.1 in /home/andrea/clearbox_repos/clearbox-model-garden/.venv/lib/python3.8/site-packages (from requests>=2.17.3->mlflow<2.0.0,>=1.11.0->clearbox-wrapper) (1.25.10)\n",
      "Requirement already satisfied: pytz>=2017.2 in /home/andrea/clearbox_repos/clearbox-model-garden/.venv/lib/python3.8/site-packages (from pandas->mlflow<2.0.0,>=1.11.0->clearbox-wrapper) (2020.1)\n",
      "Requirement already satisfied: gitdb<5,>=4.0.1 in /home/andrea/clearbox_repos/clearbox-model-garden/.venv/lib/python3.8/site-packages (from gitpython>=2.1.0->mlflow<2.0.0,>=1.11.0->clearbox-wrapper) (4.0.5)\n",
      "Requirement already satisfied: setuptools>=3.0 in /home/andrea/clearbox_repos/clearbox-model-garden/.venv/lib/python3.8/site-packages (from gunicorn; platform_system != \"Windows\"->mlflow<2.0.0,>=1.11.0->clearbox-wrapper) (49.6.0)\n",
      "Requirement already satisfied: MarkupSafe>=0.23 in /home/andrea/clearbox_repos/clearbox-model-garden/.venv/lib/python3.8/site-packages (from Jinja2>=2.10.1->Flask->mlflow<2.0.0,>=1.11.0->clearbox-wrapper) (1.1.1)\n",
      "Requirement already satisfied: isodate>=0.6.0 in /home/andrea/clearbox_repos/clearbox-model-garden/.venv/lib/python3.8/site-packages (from msrest>=0.6.10->azure-storage-blob>=12.0->mlflow<2.0.0,>=1.11.0->clearbox-wrapper) (0.6.0)\n",
      "Requirement already satisfied: requests-oauthlib>=0.5.0 in /home/andrea/clearbox_repos/clearbox-model-garden/.venv/lib/python3.8/site-packages (from msrest>=0.6.10->azure-storage-blob>=12.0->mlflow<2.0.0,>=1.11.0->clearbox-wrapper) (1.3.0)\n",
      "Requirement already satisfied: cffi!=1.11.3,>=1.8 in /home/andrea/clearbox_repos/clearbox-model-garden/.venv/lib/python3.8/site-packages (from cryptography>=2.1.4->azure-storage-blob>=12.0->mlflow<2.0.0,>=1.11.0->clearbox-wrapper) (1.14.3)\n",
      "Requirement already satisfied: smmap<4,>=3.0.1 in /home/andrea/clearbox_repos/clearbox-model-garden/.venv/lib/python3.8/site-packages (from gitdb<5,>=4.0.1->gitpython>=2.1.0->mlflow<2.0.0,>=1.11.0->clearbox-wrapper) (3.0.4)\n",
      "Requirement already satisfied: oauthlib>=3.0.0 in /home/andrea/clearbox_repos/clearbox-model-garden/.venv/lib/python3.8/site-packages (from requests-oauthlib>=0.5.0->msrest>=0.6.10->azure-storage-blob>=12.0->mlflow<2.0.0,>=1.11.0->clearbox-wrapper) (3.1.0)\n",
      "Requirement already satisfied: pycparser in /home/andrea/clearbox_repos/clearbox-model-garden/.venv/lib/python3.8/site-packages (from cffi!=1.11.3,>=1.8->cryptography>=2.1.4->azure-storage-blob>=12.0->mlflow<2.0.0,>=1.11.0->clearbox-wrapper) (2.20)\n",
      "\u001b[33mWARNING: You are using pip version 20.2.3; however, version 20.3.3 is available.\n",
      "You should consider upgrading via the '/home/andrea/clearbox_repos/clearbox-model-garden/.venv/bin/python -m pip install --upgrade pip' command.\u001b[0m\n"
     ]
    }
   ],
   "source": [
    "!pip install pandas\n",
    "!pip install numpy\n",
    "!pip install scikit-learn\n",
    "!pip install torch\n",
    "\n",
    "!pip install clearbox-wrapper"
   ]
  },
  {
   "cell_type": "code",
   "execution_count": 2,
   "metadata": {},
   "outputs": [],
   "source": [
    "import pandas as pd\n",
    "import numpy as np\n",
    "\n",
    "from sklearn.preprocessing import RobustScaler\n",
    "\n",
    "import torch\n",
    "import torch.nn as nn\n",
    "\n",
    "import clearbox_wrapper as cbw"
   ]
  },
  {
   "cell_type": "markdown",
   "metadata": {},
   "source": [
    "## Datasets\n",
    "\n",
    "We have two different csv files for the training and test set."
   ]
  },
  {
   "cell_type": "code",
   "execution_count": 3,
   "metadata": {},
   "outputs": [
    {
     "output_type": "stream",
     "name": "stderr",
     "text": [
      "/home/andrea/clearbox_repos/clearbox-model-garden/.venv/lib/python3.8/site-packages/ipykernel/ipkernel.py:287: DeprecationWarning: `should_run_async` will not call `transform_cell` automatically in the future. Please pass the result to `transformed_cell` argument and any exception that happen during thetransform in `preprocessing_exc_tuple` in IPython 7.17 and above.\n  and should_run_async(code)\n"
     ]
    }
   ],
   "source": [
    "boston_training_csv_path = 'boston_training_set.csv'\n",
    "boston_test_csv_path = 'boston_test_set.csv'"
   ]
  },
  {
   "cell_type": "code",
   "execution_count": 4,
   "metadata": {},
   "outputs": [],
   "source": [
    "boston_training = pd.read_csv(boston_training_csv_path)\n",
    "boston_test = pd.read_csv(boston_test_csv_path)"
   ]
  },
  {
   "cell_type": "code",
   "execution_count": 5,
   "metadata": {},
   "outputs": [],
   "source": [
    "target_column = 'MEDV'"
   ]
  },
  {
   "cell_type": "code",
   "execution_count": 6,
   "metadata": {},
   "outputs": [],
   "source": [
    "y_train = boston_training[target_column]\n",
    "X_train = boston_training.drop(target_column, axis=1)"
   ]
  },
  {
   "cell_type": "code",
   "execution_count": 7,
   "metadata": {},
   "outputs": [],
   "source": [
    "y_test = boston_test[target_column]\n",
    "X_test = boston_test.drop(target_column, axis=1)"
   ]
  },
  {
   "cell_type": "code",
   "execution_count": 8,
   "metadata": {},
   "outputs": [
    {
     "output_type": "stream",
     "name": "stdout",
     "text": [
      "<class 'pandas.core.frame.DataFrame'>\nRangeIndex: 404 entries, 0 to 403\nData columns (total 13 columns):\n #   Column   Non-Null Count  Dtype  \n---  ------   --------------  -----  \n 0   CRIM     404 non-null    float64\n 1   ZN       404 non-null    float64\n 2   INDUS    404 non-null    float64\n 3   CHAS     404 non-null    int64  \n 4   NOX      404 non-null    float64\n 5   RM       404 non-null    float64\n 6   AGE      404 non-null    float64\n 7   DIS      404 non-null    float64\n 8   RAD      404 non-null    int64  \n 9   TAX      404 non-null    int64  \n 10  PTRATIO  404 non-null    float64\n 11  B        404 non-null    float64\n 12  LSTAT    404 non-null    float64\ndtypes: float64(10), int64(3)\nmemory usage: 41.2 KB\n"
     ]
    }
   ],
   "source": [
    "X_train.info()"
   ]
  },
  {
   "cell_type": "code",
   "execution_count": 9,
   "metadata": {},
   "outputs": [
    {
     "output_type": "stream",
     "name": "stdout",
     "text": [
      "<class 'pandas.core.frame.DataFrame'>\nRangeIndex: 102 entries, 0 to 101\nData columns (total 13 columns):\n #   Column   Non-Null Count  Dtype  \n---  ------   --------------  -----  \n 0   CRIM     102 non-null    float64\n 1   ZN       102 non-null    float64\n 2   INDUS    102 non-null    float64\n 3   CHAS     102 non-null    int64  \n 4   NOX      102 non-null    float64\n 5   RM       102 non-null    float64\n 6   AGE      102 non-null    float64\n 7   DIS      102 non-null    float64\n 8   RAD      102 non-null    int64  \n 9   TAX      102 non-null    int64  \n 10  PTRATIO  102 non-null    float64\n 11  B        102 non-null    float64\n 12  LSTAT    102 non-null    float64\ndtypes: float64(10), int64(3)\nmemory usage: 10.5 KB\n"
     ]
    }
   ],
   "source": [
    "X_test.info()"
   ]
  },
  {
   "cell_type": "markdown",
   "metadata": {},
   "source": [
    "## Create a preprocessing function\n",
    "\n",
    "The data need to be preprocessed before be passed as input to the model. You can use your own custom code for the preprocessing, just remember to wrap all of it in a single function.\n",
    "\n",
    "The following preprocessing makes no sense, it is provided just to show the possibilities offer by the wrapper.\n",
    "\n",
    "We fit a SKlearn scaler on the X training set:"
   ]
  },
  {
   "cell_type": "code",
   "execution_count": 10,
   "metadata": {},
   "outputs": [],
   "source": [
    "robust_scaler = RobustScaler()"
   ]
  },
  {
   "cell_type": "code",
   "execution_count": 11,
   "metadata": {},
   "outputs": [
    {
     "output_type": "execute_result",
     "data": {
      "text/plain": [
       "RobustScaler()"
      ]
     },
     "metadata": {},
     "execution_count": 11
    }
   ],
   "source": [
    "robust_scaler.fit(X_train)"
   ]
  },
  {
   "cell_type": "markdown",
   "metadata": {},
   "source": [
    "Then, we wrap the processing into a function adding also some useless additional lines that increment by 1 all the values of the dataset and (**IMPORTANT**) we convert the resulting data into the Pytorch format:"
   ]
  },
  {
   "cell_type": "code",
   "execution_count": 12,
   "metadata": {},
   "outputs": [
    {
     "output_type": "stream",
     "name": "stderr",
     "text": [
      "/home/andrea/clearbox_repos/clearbox-model-garden/.venv/lib/python3.8/site-packages/ipykernel/ipkernel.py:287: DeprecationWarning: `should_run_async` will not call `transform_cell` automatically in the future. Please pass the result to `transformed_cell` argument and any exception that happen during thetransform in `preprocessing_exc_tuple` in IPython 7.17 and above.\n  and should_run_async(code)\n"
     ]
    }
   ],
   "source": [
    "def boston_preprocessing(x_data):\n",
    "    processed_data = robust_scaler.transform(x_data)\n",
    "    processed_data = processed_data + 1.0\n",
    "    processed_data = torch.Tensor(processed_data)\n",
    "    return processed_data"
   ]
  },
  {
   "cell_type": "markdown",
   "metadata": {},
   "source": [
    "## Create and train the model\n",
    "\n",
    "We build a Pytorch network setting some basic parameters..."
   ]
  },
  {
   "cell_type": "code",
   "execution_count": 13,
   "metadata": {},
   "outputs": [],
   "source": [
    "num_epochs = 20\n",
    "learning_rate = 0.0001\n",
    "size_hidden1 = 25\n",
    "size_hidden2 = 12\n",
    "size_hidden3 = 6\n",
    "size_hidden4 = 1"
   ]
  },
  {
   "cell_type": "code",
   "execution_count": 14,
   "metadata": {},
   "outputs": [],
   "source": [
    "class BostonModel(nn.Module):\n",
    "    def __init__(self):\n",
    "        super().__init__()\n",
    "        self.lin1 = nn.Linear(13, size_hidden1)\n",
    "        self.relu1 = nn.ReLU()\n",
    "        self.lin2 = nn.Linear(size_hidden1, size_hidden2)\n",
    "        self.relu2 = nn.ReLU()\n",
    "        self.lin3 = nn.Linear(size_hidden2, size_hidden3)\n",
    "        self.relu3 = nn.ReLU()\n",
    "        self.lin4 = nn.Linear(size_hidden3, size_hidden4)\n",
    "\n",
    "    def forward(self, input):\n",
    "        return self.lin4(\n",
    "            self.relu3(self.lin3(self.relu2(self.lin2(self.relu1(self.lin1(input))))))\n",
    "        )"
   ]
  },
  {
   "cell_type": "markdown",
   "metadata": {},
   "source": [
    "...add the training function..."
   ]
  },
  {
   "cell_type": "code",
   "execution_count": 15,
   "metadata": {},
   "outputs": [],
   "source": [
    "def train(model_inp, x_train, y_train, num_epochs=num_epochs):\n",
    "    datasets = torch.utils.data.TensorDataset(x_train, y_train)\n",
    "    train_iter = torch.utils.data.DataLoader(datasets, batch_size=10, shuffle=True)\n",
    "    criterion = nn.MSELoss(reduction=\"sum\")\n",
    "    optimizer = torch.optim.RMSprop(model_inp.parameters(), lr=learning_rate)\n",
    "    for epoch in range(num_epochs):  # loop over the dataset multiple times\n",
    "        running_loss = 0.0\n",
    "        for inputs, labels in train_iter:\n",
    "            # forward pass\n",
    "            outputs = model_inp(inputs)\n",
    "            # defining loss\n",
    "            loss = criterion(outputs, labels)\n",
    "            # zero the parameter gradients\n",
    "            optimizer.zero_grad()\n",
    "            # computing gradients\n",
    "            loss.backward()\n",
    "            # accumulating running loss\n",
    "            running_loss += loss.item()\n",
    "            # updated weights based on computed gradients\n",
    "            optimizer.step()\n",
    "        if (epoch+1) % 5 == 0:\n",
    "            print(\n",
    "                \"Epoch [%d]/[%d] running accumulative loss across all batches: %.3f\"\n",
    "                % (epoch + 1, num_epochs, running_loss)\n",
    "            )"
   ]
  },
  {
   "cell_type": "markdown",
   "metadata": {},
   "source": [
    "...preprocess the training data through our function..."
   ]
  },
  {
   "cell_type": "code",
   "execution_count": 16,
   "metadata": {},
   "outputs": [],
   "source": [
    "X_train_processed = boston_preprocessing(X_train)"
   ]
  },
  {
   "cell_type": "markdown",
   "metadata": {},
   "source": [
    "...convert the y training data to the Pytorch format as well..."
   ]
  },
  {
   "cell_type": "code",
   "execution_count": 17,
   "metadata": {},
   "outputs": [
    {
     "output_type": "stream",
     "name": "stderr",
     "text": [
      "/home/andrea/clearbox_repos/clearbox-model-garden/.venv/lib/python3.8/site-packages/ipykernel/ipkernel.py:287: DeprecationWarning: `should_run_async` will not call `transform_cell` automatically in the future. Please pass the result to `transformed_cell` argument and any exception that happen during thetransform in `preprocessing_exc_tuple` in IPython 7.17 and above.\n  and should_run_async(code)\n"
     ]
    }
   ],
   "source": [
    "y_train = torch.Tensor(y_train.values)"
   ]
  },
  {
   "cell_type": "markdown",
   "metadata": {},
   "source": [
    "...and finally create a model instance and fit it on the resulting data:"
   ]
  },
  {
   "cell_type": "code",
   "execution_count": 18,
   "metadata": {},
   "outputs": [
    {
     "output_type": "stream",
     "name": "stdout",
     "text": [
      "Epoch [5]/[20] running accumulative loss across all batches: 2382470.088\n",
      "Epoch [10]/[20] running accumulative loss across all batches: 2286777.667\n",
      "Epoch [15]/[20] running accumulative loss across all batches: 2133008.015\n",
      "Epoch [20]/[20] running accumulative loss across all batches: 1907148.792\n"
     ]
    }
   ],
   "source": [
    "model = BostonModel()\n",
    "model.train()\n",
    "train(model, X_train_processed, y_train)"
   ]
  },
  {
   "cell_type": "markdown",
   "metadata": {},
   "source": [
    "## Wrap and Save the Model\n",
    "\n",
    "Finally, we use Clearbox Wrapper to wrap and save the model and the preprocessor as a zipped folder in a specified path. \n",
    "\n",
    "The model dependency (torch) and its version it is detected automatically by CBW and added to the requirements saved into the resulting folder. But (**IMPORTANT**) you need to pass as a parameter the additional dependencies required for the preprocessing as a list. We just need to add Scikit-Learn in this case."
   ]
  },
  {
   "cell_type": "code",
   "execution_count": 19,
   "metadata": {},
   "outputs": [],
   "source": [
    "wrapped_model_path = 'boston_wrapped_model_v0.0.1'"
   ]
  },
  {
   "cell_type": "code",
   "execution_count": 20,
   "metadata": {},
   "outputs": [],
   "source": [
    "processing_dependencies = [\"scikit-learn==0.23.2\"]"
   ]
  },
  {
   "cell_type": "code",
   "execution_count": 21,
   "metadata": {},
   "outputs": [
    {
     "output_type": "execute_result",
     "data": {
      "text/plain": [
       "<clearbox_wrapper.clearbox_wrapper.ClearboxWrapper at 0x7fe1348691f0>"
      ]
     },
     "metadata": {},
     "execution_count": 21
    }
   ],
   "source": [
    "cbw.save_model(wrapped_model_path, model, boston_preprocessing, additional_deps=processing_dependencies)"
   ]
  },
  {
   "cell_type": "markdown",
   "metadata": {},
   "source": [
    "## Unzip and load the model\n",
    "\n",
    "The following cells are not necessary for the final users, the zip created should be uploaded to our SAAS as it is. But here we want to show how to load a saved model and compare it to the original one.\n",
    "\n",
    "**IMPORTANT**: The wrapped model method _predict_ tries always to predict probabilities if the method required to is available in the saved model. It will look for the method _predict_proba_ of the original, and if it's not there (e.g. regression or model that output probabilities by default), it will use _predict_. So to compare the prediction results, we will use _predict_probas_ for the original model and _predict_ for the saved one."
   ]
  },
  {
   "cell_type": "code",
   "execution_count": 22,
   "metadata": {},
   "outputs": [],
   "source": [
    "import zipfile"
   ]
  },
  {
   "cell_type": "code",
   "execution_count": 23,
   "metadata": {},
   "outputs": [],
   "source": [
    "zipped_model_path = 'boston_wrapped_model_v0.0.1.zip'\n",
    "unzipped_model_path = 'boston_wrapped_model_v0.0.1_unzipped'"
   ]
  },
  {
   "cell_type": "code",
   "execution_count": 25,
   "metadata": {},
   "outputs": [],
   "source": [
    "with zipfile.ZipFile(zipped_model_path, 'r') as zip_ref:\n",
    "    zip_ref.extractall(unzipped_model_path)"
   ]
  },
  {
   "cell_type": "code",
   "execution_count": 26,
   "metadata": {},
   "outputs": [],
   "source": [
    "loaded_model = cbw.load_model(unzipped_model_path)"
   ]
  },
  {
   "cell_type": "code",
   "execution_count": 27,
   "metadata": {},
   "outputs": [],
   "source": [
    "X_test_processed = boston_preprocessing(X_test)\n",
    "original_model_predictions = model(X_test_processed).detach().numpy()"
   ]
  },
  {
   "cell_type": "code",
   "execution_count": 28,
   "metadata": {},
   "outputs": [
    {
     "output_type": "stream",
     "name": "stderr",
     "text": [
      "/home/andrea/clearbox_repos/clearbox-model-garden/.venv/lib/python3.8/site-packages/ipykernel/ipkernel.py:287: DeprecationWarning: `should_run_async` will not call `transform_cell` automatically in the future. Please pass the result to `transformed_cell` argument and any exception that happen during thetransform in `preprocessing_exc_tuple` in IPython 7.17 and above.\n  and should_run_async(code)\n"
     ]
    }
   ],
   "source": [
    "loaded_model_predictions = loaded_model.predict(X_test).detach().numpy()"
   ]
  },
  {
   "cell_type": "code",
   "execution_count": 29,
   "metadata": {},
   "outputs": [
    {
     "output_type": "stream",
     "name": "stderr",
     "text": [
      "/home/andrea/clearbox_repos/clearbox-model-garden/.venv/lib/python3.8/site-packages/ipykernel/ipkernel.py:287: DeprecationWarning: `should_run_async` will not call `transform_cell` automatically in the future. Please pass the result to `transformed_cell` argument and any exception that happen during thetransform in `preprocessing_exc_tuple` in IPython 7.17 and above.\n  and should_run_async(code)\n"
     ]
    }
   ],
   "source": [
    "np.testing.assert_array_equal(original_model_predictions, loaded_model_predictions)"
   ]
  },
  {
   "cell_type": "markdown",
   "metadata": {},
   "source": [
    "## Remove all generated files and directory"
   ]
  },
  {
   "cell_type": "code",
   "execution_count": null,
   "metadata": {},
   "outputs": [],
   "source": [
    "import os\n",
    "import shutil"
   ]
  },
  {
   "cell_type": "code",
   "execution_count": null,
   "metadata": {},
   "outputs": [],
   "source": [
    "if os.path.exists(zipped_model_path):\n",
    "        os.remove(zipped_model_path)"
   ]
  },
  {
   "cell_type": "code",
   "execution_count": null,
   "metadata": {},
   "outputs": [],
   "source": [
    "if os.path.exists(unzipped_model_path):\n",
    "        shutil.rmtree(unzipped_model_path)"
   ]
  }
 ],
 "metadata": {
  "kernelspec": {
   "display_name": "Python 3.8.5 64-bit ('.venv': venv)",
   "language": "python",
   "name": "python38564bitvenvvenv7a33c3e91b2549fb9dfe382dcd89dc8a"
  },
  "language_info": {
   "codemirror_mode": {
    "name": "ipython",
    "version": 3
   },
   "file_extension": ".py",
   "mimetype": "text/x-python",
   "name": "python",
   "nbconvert_exporter": "python",
   "pygments_lexer": "ipython3",
   "version": "3.8.5-final"
  }
 },
 "nbformat": 4,
 "nbformat_minor": 4
}
