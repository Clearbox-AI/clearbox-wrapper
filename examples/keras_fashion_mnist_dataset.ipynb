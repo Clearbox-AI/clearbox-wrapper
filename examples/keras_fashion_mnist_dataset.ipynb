{
 "cells": [
  {
   "cell_type": "code",
   "execution_count": 1,
   "metadata": {},
   "outputs": [],
   "source": [
    "# TensorFlow and tf.keras\n",
    "import tensorflow as tf\n",
    "from tensorflow import keras\n",
    "\n",
    "# Helper libraries\n",
    "import numpy as np\n",
    "import matplotlib.pyplot as plt"
   ]
  },
  {
   "cell_type": "code",
   "execution_count": 2,
   "metadata": {},
   "outputs": [],
   "source": [
    "fashion_mnist = keras.datasets.fashion_mnist\n",
    "\n",
    "(train_images, train_labels), (test_images, test_labels) = fashion_mnist.load_data()"
   ]
  },
  {
   "cell_type": "code",
   "execution_count": 3,
   "metadata": {},
   "outputs": [],
   "source": [
    "class_names = ['T-shirt/top', 'Trouser', 'Pullover', 'Dress', 'Coat',\n",
    "               'Sandal', 'Shirt', 'Sneaker', 'Bag', 'Ankle boot']"
   ]
  },
  {
   "cell_type": "code",
   "execution_count": 4,
   "metadata": {},
   "outputs": [],
   "source": [
    "train_images = train_images / 255.0\n",
    "\n",
    "test_images = test_images / 255.0"
   ]
  },
  {
   "cell_type": "code",
   "execution_count": 5,
   "metadata": {},
   "outputs": [],
   "source": [
    "model = keras.Sequential([\n",
    "    keras.layers.Flatten(input_shape=(28, 28)),\n",
    "    keras.layers.Dense(128, activation='relu'),\n",
    "    keras.layers.Dense(10),\n",
    "    keras.layers.Softmax()\n",
    "])"
   ]
  },
  {
   "cell_type": "code",
   "execution_count": 6,
   "metadata": {},
   "outputs": [],
   "source": [
    "model.compile(optimizer='adam',\n",
    "              loss=tf.keras.losses.SparseCategoricalCrossentropy(from_logits=True),\n",
    "              metrics=['accuracy'])"
   ]
  },
  {
   "cell_type": "code",
   "execution_count": 7,
   "metadata": {},
   "outputs": [
    {
     "output_type": "stream",
     "name": "stdout",
     "text": "Epoch 1/10\n1875/1875 [==============================] - 2s 1ms/step - loss: 1.6840 - accuracy: 0.7851\nEpoch 2/10\n1875/1875 [==============================] - 2s 1ms/step - loss: 1.6213 - accuracy: 0.8419\nEpoch 3/10\n1875/1875 [==============================] - 2s 1ms/step - loss: 1.6088 - accuracy: 0.8537\nEpoch 4/10\n1875/1875 [==============================] - 2s 1ms/step - loss: 1.6021 - accuracy: 0.8601\nEpoch 5/10\n1875/1875 [==============================] - 2s 1ms/step - loss: 1.5960 - accuracy: 0.8659\nEpoch 6/10\n1875/1875 [==============================] - 2s 1ms/step - loss: 1.5929 - accuracy: 0.8690\nEpoch 7/10\n1875/1875 [==============================] - 2s 1ms/step - loss: 1.5889 - accuracy: 0.8727\nEpoch 8/10\n1875/1875 [==============================] - 2s 1ms/step - loss: 1.5855 - accuracy: 0.8766\nEpoch 9/10\n1875/1875 [==============================] - 3s 1ms/step - loss: 1.5834 - accuracy: 0.8781\nEpoch 10/10\n1875/1875 [==============================] - 2s 1ms/step - loss: 1.5799 - accuracy: 0.8816\n"
    },
    {
     "output_type": "execute_result",
     "data": {
      "text/plain": "<tensorflow.python.keras.callbacks.History at 0x7fafe10d0908>"
     },
     "metadata": {},
     "execution_count": 7
    }
   ],
   "source": [
    "model.fit(train_images, train_labels, epochs=10)"
   ]
  },
  {
   "cell_type": "code",
   "execution_count": 8,
   "metadata": {},
   "outputs": [
    {
     "output_type": "execute_result",
     "data": {
      "text/plain": "array([[1.2183170e-15, 2.4374051e-20, 2.0860107e-18, ..., 1.3169240e-04,\n        9.7283449e-12, 9.9969363e-01],\n       [2.4757346e-28, 3.2482657e-27, 1.0000000e+00, ..., 0.0000000e+00,\n        1.1639150e-25, 0.0000000e+00],\n       [1.2816171e-16, 1.0000000e+00, 8.4038703e-23, ..., 1.8967937e-27,\n        2.5219939e-28, 2.5852309e-28],\n       ...,\n       [4.9009569e-10, 2.7095807e-26, 1.9304508e-14, ..., 1.5708589e-14,\n        1.0000000e+00, 1.0477784e-24],\n       [1.7561743e-21, 1.0000000e+00, 3.3389069e-21, ..., 1.6913106e-25,\n        6.3170468e-27, 4.1258988e-19],\n       [5.0616505e-10, 1.9534192e-12, 5.3800064e-10, ..., 2.7736579e-03,\n        1.0854195e-04, 3.2699534e-11]], dtype=float32)"
     },
     "metadata": {},
     "execution_count": 8
    }
   ],
   "source": [
    "model.predict(test_images)"
   ]
  },
  {
   "cell_type": "code",
   "execution_count": 9,
   "metadata": {},
   "outputs": [
    {
     "output_type": "stream",
     "name": "stdout",
     "text": "WARNING:tensorflow:From /home/carmine/Code/clearbox-wrapper/venv/lib/python3.7/site-packages/tensorflow/python/ops/resource_variable_ops.py:1817: calling BaseResourceVariable.__init__ (from tensorflow.python.ops.resource_variable_ops) with constraint is deprecated and will be removed in a future version.\nInstructions for updating:\nIf using Keras pass *_constraint arguments to layers.\nINFO:tensorflow:Assets written to: ./keras_fashion_mnist_model/assets\n"
    }
   ],
   "source": [
    "model.save('./keras_fashion_mnist_model')"
   ]
  },
  {
   "cell_type": "code",
   "execution_count": 10,
   "metadata": {},
   "outputs": [],
   "source": [
    "from clearbox_wrapper.KerasWrapper import KerasWrapper"
   ]
  },
  {
   "cell_type": "code",
   "execution_count": 11,
   "metadata": {},
   "outputs": [],
   "source": [
    "class MyModel(KerasWrapper):\n",
    "    def __init__(self, model):\n",
    "       super().__init__(model) \n",
    "\n",
    "    def predict(self, X):\n",
    "        predictions = self.model.predict(X)\n",
    "        return predictions"
   ]
  },
  {
   "cell_type": "code",
   "execution_count": 12,
   "metadata": {},
   "outputs": [
    {
     "output_type": "stream",
     "name": "stdout",
     "text": "INFO:tensorflow:Assets written to: ./keras_fashion_mnist_model/assets\n"
    }
   ],
   "source": [
    "MyModel('./keras_fashion_mnist_model').dump('keras.model')"
   ]
  },
  {
   "cell_type": "code",
   "execution_count": 13,
   "metadata": {},
   "outputs": [
    {
     "output_type": "execute_result",
     "data": {
      "text/plain": "array([[1.2183170e-15, 2.4374051e-20, 2.0860107e-18, ..., 1.3169240e-04,\n        9.7283449e-12, 9.9969363e-01],\n       [2.4757346e-28, 3.2482657e-27, 1.0000000e+00, ..., 0.0000000e+00,\n        1.1639150e-25, 0.0000000e+00],\n       [1.2816171e-16, 1.0000000e+00, 8.4038703e-23, ..., 1.8967937e-27,\n        2.5219939e-28, 2.5852309e-28],\n       ...,\n       [4.9009569e-10, 2.7095807e-26, 1.9304508e-14, ..., 1.5708589e-14,\n        1.0000000e+00, 1.0477784e-24],\n       [1.7561743e-21, 1.0000000e+00, 3.3389069e-21, ..., 1.6913106e-25,\n        6.3170468e-27, 4.1258988e-19],\n       [5.0616505e-10, 1.9534192e-12, 5.3800064e-10, ..., 2.7736579e-03,\n        1.0854195e-04, 3.2699534e-11]], dtype=float32)"
     },
     "metadata": {},
     "execution_count": 13
    }
   ],
   "source": [
    "bar = MyModel.load('keras.model')\n",
    "bar.predict(test_images)"
   ]
  }
 ],
 "metadata": {
  "language_info": {
   "codemirror_mode": {
    "name": "ipython",
    "version": 3
   },
   "file_extension": ".py",
   "mimetype": "text/x-python",
   "name": "python",
   "nbconvert_exporter": "python",
   "pygments_lexer": "ipython3",
   "version": "3.7.2-final"
  },
  "orig_nbformat": 2,
  "kernelspec": {
   "name": "python36964bitvenvvenv96cb1235e3cf4c0598e68d774cc24225",
   "display_name": "Python 3.6.9 64-bit ('venv': venv)"
  }
 },
 "nbformat": 4,
 "nbformat_minor": 2
}